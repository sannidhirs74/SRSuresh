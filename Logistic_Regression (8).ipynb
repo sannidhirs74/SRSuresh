{
  "cells": [
    {
      "cell_type": "code",
      "execution_count": null,
      "metadata": {
        "id": "VFqRcHdlNVGx"
      },
      "outputs": [],
      "source": [
        "import pandas as pd\n",
        "from sklearn.linear_model import LogisticRegression\n"
      ]
    },
    {
      "cell_type": "code",
      "execution_count": null,
      "metadata": {
        "id": "sVuBnkivNVGz"
      },
      "outputs": [],
      "source": [
        "#Load the data set\n",
        "claimants = pd.read_csv(\"claimants.csv\")\n",
        "claimants.head()"
      ]
    },
    {
      "cell_type": "code",
      "source": [
        "claimants[claimants.duplicated()]"
      ],
      "metadata": {
        "id": "CDQANs-HIpm2"
      },
      "execution_count": null,
      "outputs": []
    },
    {
      "cell_type": "code",
      "source": [
        "claimants.shape"
      ],
      "metadata": {
        "id": "EGgRdKtrpesM"
      },
      "execution_count": null,
      "outputs": []
    },
    {
      "cell_type": "code",
      "source": [
        "len(claimants.CASENUM.unique())"
      ],
      "metadata": {
        "id": "WPr22vTgLlJf"
      },
      "execution_count": null,
      "outputs": []
    },
    {
      "cell_type": "code",
      "execution_count": null,
      "metadata": {
        "id": "4VSurQRzNVGz"
      },
      "outputs": [],
      "source": [
        "# dropping the case number columns as it is not required\n",
        "claimants.drop([\"CASENUM\"],inplace=True,axis = 1)"
      ]
    },
    {
      "cell_type": "code",
      "execution_count": null,
      "metadata": {
        "id": "BkjNXfnZNVG0"
      },
      "outputs": [],
      "source": [
        "#Shape of the data set\n",
        "claimants.shape"
      ]
    },
    {
      "cell_type": "code",
      "source": [
        "claimants.info()"
      ],
      "metadata": {
        "id": "Ry8ilowG6ZMK"
      },
      "execution_count": null,
      "outputs": []
    },
    {
      "cell_type": "code",
      "source": [
        "claimants.isnull().sum()"
      ],
      "metadata": {
        "id": "PmTKtu0q7LbW"
      },
      "execution_count": null,
      "outputs": []
    },
    {
      "cell_type": "code",
      "execution_count": null,
      "metadata": {
        "id": "A_eT6tAPNVG0"
      },
      "outputs": [],
      "source": [
        "# Removing NA values in data set\n",
        "claimants = claimants.dropna()\n",
        "claimants.shape"
      ]
    },
    {
      "cell_type": "code",
      "source": [
        "claimants.head()"
      ],
      "metadata": {
        "id": "C4jlKL4-T6el"
      },
      "execution_count": null,
      "outputs": []
    },
    {
      "cell_type": "code",
      "execution_count": null,
      "metadata": {
        "id": "f5Xck7ORNVG0"
      },
      "outputs": [],
      "source": [
        "# Dividing our data into input and output variables\n",
        "X = claimants.iloc[:,1:]\n",
        "Y = claimants.iloc[:,0]"
      ]
    },
    {
      "cell_type": "code",
      "source": [
        "X.head()"
      ],
      "metadata": {
        "id": "pK4CjPhthmSt"
      },
      "execution_count": null,
      "outputs": []
    },
    {
      "cell_type": "code",
      "source": [
        "Y.head()"
      ],
      "metadata": {
        "id": "dawbVYY7hrc0"
      },
      "execution_count": null,
      "outputs": []
    },
    {
      "cell_type": "code",
      "source": [
        "from sklearn.linear_model import LinearRegression\n",
        "linear=LinearRegression()\n",
        "linear.fit(X,Y)"
      ],
      "metadata": {
        "id": "mnWBmc_uvHxW"
      },
      "execution_count": null,
      "outputs": []
    },
    {
      "cell_type": "code",
      "source": [
        "linear.predict(X)"
      ],
      "metadata": {
        "id": "gf3Yursvvf1V"
      },
      "execution_count": null,
      "outputs": []
    },
    {
      "cell_type": "code",
      "source": [
        "from sklearn.metrics import r2_score\n",
        "r2_score(Y, linear.predict(X))"
      ],
      "metadata": {
        "id": "mzPrdD2lvkob"
      },
      "execution_count": null,
      "outputs": []
    },
    {
      "cell_type": "code",
      "execution_count": null,
      "metadata": {
        "id": "aLmbQIjDNVG1"
      },
      "outputs": [],
      "source": [
        "#Logistic regression and fit the model\n",
        "classifier = LogisticRegression()\n",
        "classifier.fit(X,Y)"
      ]
    },
    {
      "cell_type": "code",
      "execution_count": null,
      "metadata": {
        "id": "WyUPPzKxNVG1"
      },
      "outputs": [],
      "source": [
        "#Predict for X dataset\n",
        "y_pred = classifier.predict(X)\n",
        "y_pred"
      ]
    },
    {
      "cell_type": "code",
      "source": [
        "classifier.predict_proba(X)[:,1]"
      ],
      "metadata": {
        "id": "aT7jC_MbOrms"
      },
      "execution_count": null,
      "outputs": []
    },
    {
      "cell_type": "code",
      "execution_count": null,
      "metadata": {
        "id": "BDIgWLeNNVG1"
      },
      "outputs": [],
      "source": [
        "y_pred_df= pd.DataFrame({'actual': Y,\n",
        "                         'predicted_prob': classifier.predict_proba(X)[:,1],\n",
        "                         'y_predictions':y_pred})"
      ]
    },
    {
      "cell_type": "code",
      "execution_count": null,
      "metadata": {
        "id": "LIBG8OQYNVG1"
      },
      "outputs": [],
      "source": [
        "y_pred_df"
      ]
    },
    {
      "cell_type": "code",
      "execution_count": null,
      "metadata": {
        "id": "9abPh6-_NVG2"
      },
      "outputs": [],
      "source": [
        "# Confusion Matrix for the model accuracy\n",
        "from sklearn.metrics import confusion_matrix,accuracy_score\n"
      ]
    },
    {
      "cell_type": "code",
      "source": [
        "confusion_matrix = confusion_matrix(Y,y_pred)\n",
        "print (confusion_matrix)"
      ],
      "metadata": {
        "id": "27lLrGvLij2P"
      },
      "execution_count": null,
      "outputs": []
    },
    {
      "cell_type": "code",
      "source": [
        "accuracy_score(Y,y_pred)"
      ],
      "metadata": {
        "id": "G0-RJFc56sPC"
      },
      "execution_count": null,
      "outputs": []
    },
    {
      "cell_type": "code",
      "execution_count": null,
      "metadata": {
        "id": "FdF8Bp1zNVG2"
      },
      "outputs": [],
      "source": [
        "#accuracy=(TP+TN)/(TP+TN+FP+FN)\n",
        "Accuracy=((381+395)/(381+197+123+395))*100\n",
        "Accuracy"
      ]
    },
    {
      "cell_type": "code",
      "execution_count": null,
      "metadata": {
        "id": "Fvect4WQNVG2"
      },
      "outputs": [],
      "source": [
        "#Classification report\n",
        "from sklearn.metrics import classification_report\n",
        "print(classification_report(Y,y_pred))"
      ]
    },
    {
      "cell_type": "code",
      "source": [
        "classifier.score(X,Y)"
      ],
      "metadata": {
        "id": "EL8wZ2Jd6aL5"
      },
      "execution_count": null,
      "outputs": []
    },
    {
      "cell_type": "code",
      "execution_count": null,
      "metadata": {
        "id": "_1-SIY82NVG2"
      },
      "outputs": [],
      "source": [
        "# ROC Curve"
      ]
    },
    {
      "cell_type": "code",
      "source": [
        "classifier.predict_proba (X)"
      ],
      "metadata": {
        "id": "tRqSUDIsPquQ"
      },
      "execution_count": null,
      "outputs": []
    },
    {
      "cell_type": "code",
      "execution_count": null,
      "metadata": {
        "id": "T-Kj4ok6NVG3"
      },
      "outputs": [],
      "source": [
        "from sklearn.metrics import roc_curve\n",
        "from sklearn.metrics import roc_auc_score\n",
        "\n",
        "fpr, tpr, thresholds = roc_curve(Y, classifier.predict_proba (X)[:,1])\n",
        "\n",
        "auc = roc_auc_score(Y, y_pred)\n",
        "\n",
        "import matplotlib.pyplot as plt\n",
        "plt.plot(fpr, tpr, color='red', label='logit model ( area  = %0.2f)'%auc)\n",
        "plt.plot([0, 1], [0, 1], 'k--')\n",
        "plt.xlabel('False Positive Rate or [1 - True Negative Rate]')\n",
        "plt.ylabel('True Positive Rate')\n",
        "plt.legend()\n"
      ]
    },
    {
      "cell_type": "markdown",
      "source": [],
      "metadata": {
        "id": "yaqZZLA07muk"
      }
    },
    {
      "cell_type": "code",
      "source": [],
      "metadata": {
        "id": "KGUjAtXn-xC5"
      },
      "execution_count": null,
      "outputs": []
    },
    {
      "cell_type": "code",
      "source": [
        "df=pd.DataFrame({\"CLMSEX\":[1],\"CLMINSUR\":[1],\"SEATBELT\":[0],\"CLMAGE\":[40],\"LOSS\":[45]})"
      ],
      "metadata": {
        "id": "21YBNa-u-y-c"
      },
      "execution_count": null,
      "outputs": []
    },
    {
      "cell_type": "code",
      "source": [
        "classifier.predict(df)"
      ],
      "metadata": {
        "id": "39_NOSKSV-ph"
      },
      "execution_count": null,
      "outputs": []
    },
    {
      "cell_type": "code",
      "source": [],
      "metadata": {
        "id": "UALUYB2ZV7x9"
      },
      "execution_count": null,
      "outputs": []
    }
  ],
  "metadata": {
    "kernelspec": {
      "display_name": "Python 3",
      "language": "python",
      "name": "python3"
    },
    "language_info": {
      "codemirror_mode": {
        "name": "ipython",
        "version": 3
      },
      "file_extension": ".py",
      "mimetype": "text/x-python",
      "name": "python",
      "nbconvert_exporter": "python",
      "pygments_lexer": "ipython3",
      "version": "3.7.4"
    },
    "colab": {
      "provenance": []
    }
  },
  "nbformat": 4,
  "nbformat_minor": 0
}
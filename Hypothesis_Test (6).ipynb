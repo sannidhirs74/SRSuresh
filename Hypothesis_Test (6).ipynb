{
  "cells": [
    {
      "cell_type": "code",
      "execution_count": null,
      "metadata": {
        "id": "vAZtQ1n9r2wm"
      },
      "outputs": [],
      "source": [
        "#import the libraries\n",
        "import pandas as pd\n",
        "import scipy\n",
        "import numpy as np\n",
        "from scipy import stats"
      ]
    },
    {
      "cell_type": "markdown",
      "metadata": {
        "id": "vnkYWwvxr2wo"
      },
      "source": [
        "# Super Market example"
      ]
    },
    {
      "cell_type": "code",
      "source": [
        "import numpy as np\n",
        "t=(130-120)/(40/(np.sqrt(80)))\n",
        "t"
      ],
      "metadata": {
        "id": "eYUeiAVkskVB",
        "colab": {
          "base_uri": "https://localhost:8080/"
        },
        "outputId": "8b42275f-5f45-4306-934d-48f25c8e9ddb"
      },
      "execution_count": null,
      "outputs": [
        {
          "output_type": "execute_result",
          "data": {
            "text/plain": [
              "np.float64(2.23606797749979)"
            ]
          },
          "metadata": {},
          "execution_count": 2
        }
      ]
    },
    {
      "cell_type": "code",
      "execution_count": null,
      "metadata": {
        "id": "PGgt214pr2wq",
        "colab": {
          "base_uri": "https://localhost:8080/"
        },
        "outputId": "0f21fecb-cc1c-4e0b-aaf4-b58d85160c65"
      },
      "outputs": [
        {
          "output_type": "execute_result",
          "data": {
            "text/plain": [
              "np.float64(1.9904502102301282)"
            ]
          },
          "metadata": {},
          "execution_count": 3
        }
      ],
      "source": [
        "from scipy import stats\n",
        "stats.t.ppf(0.975,79)"
      ]
    },
    {
      "cell_type": "code",
      "source": [
        "#Conclusion:\n",
        "#since tcal > tcrit , We reject null hyp, i.e., accept alt hypotheis.\n",
        "#Hence it is evident that on an average the customers are spending more than $120 per week"
      ],
      "metadata": {
        "id": "ASrqi3IBOkiZ"
      },
      "execution_count": null,
      "outputs": []
    },
    {
      "cell_type": "code",
      "source": [
        "stats.t.ppf(0.975,79)"
      ],
      "metadata": {
        "id": "q_FPo3PXtOQh",
        "colab": {
          "base_uri": "https://localhost:8080/"
        },
        "outputId": "d7104718-deb3-4ae0-b31f-39e4ae065552"
      },
      "execution_count": null,
      "outputs": [
        {
          "output_type": "execute_result",
          "data": {
            "text/plain": [
              "np.float64(1.9904502102301282)"
            ]
          },
          "metadata": {},
          "execution_count": 5
        }
      ]
    },
    {
      "cell_type": "markdown",
      "metadata": {
        "id": "Xi5AYyCcr2wr"
      },
      "source": [
        "# Call Center example"
      ]
    },
    {
      "cell_type": "code",
      "execution_count": null,
      "metadata": {
        "id": "OGXjI1Fvr2ws",
        "colab": {
          "base_uri": "https://localhost:8080/"
        },
        "outputId": "f0a8d2cc-8808-4b5b-bc36-4ed74fc3e7c5"
      },
      "outputs": [
        {
          "output_type": "execute_result",
          "data": {
            "text/plain": [
              "np.float64(1.4142135623730943)"
            ]
          },
          "metadata": {},
          "execution_count": 6
        }
      ],
      "source": [
        "import numpy as np\n",
        "(4.6-4)/(3/np.sqrt(50))"
      ]
    },
    {
      "cell_type": "code",
      "execution_count": null,
      "metadata": {
        "id": "k3jxwKror2wt",
        "colab": {
          "base_uri": "https://localhost:8080/"
        },
        "outputId": "be666109-b0d7-482f-f16e-457d9ed20ae8"
      },
      "outputs": [
        {
          "output_type": "execute_result",
          "data": {
            "text/plain": [
              "np.float64(1.959963984540054)"
            ]
          },
          "metadata": {},
          "execution_count": 7
        }
      ],
      "source": [
        "from scipy import stats\n",
        "stats.norm.ppf(0.975)"
      ]
    },
    {
      "cell_type": "code",
      "execution_count": null,
      "metadata": {
        "id": "fMEyKX6Pr2wt",
        "colab": {
          "base_uri": "https://localhost:8080/"
        },
        "outputId": "6b91f5f8-b1f5-44f2-fcd4-544d8f3d0f30"
      },
      "outputs": [
        {
          "output_type": "execute_result",
          "data": {
            "text/plain": [
              "np.float64(0.00046525815807105003)"
            ]
          },
          "metadata": {},
          "execution_count": 8
        }
      ],
      "source": [
        "2*stats.norm.cdf(-3.5)"
      ]
    },
    {
      "cell_type": "markdown",
      "metadata": {
        "id": "Gp91YHDCr2wu"
      },
      "source": [
        "# One tail test"
      ]
    },
    {
      "cell_type": "code",
      "execution_count": null,
      "metadata": {
        "id": "N8BOz1Osr2wu"
      },
      "outputs": [],
      "source": [
        "import pandas as pd\n",
        "data=pd.Series([0.593, 0.142, 0.329, 0.691, 0.231, 0.793, 0.519, 0.392, 0.418])"
      ]
    },
    {
      "cell_type": "code",
      "source": [
        "stats.ttest_1samp(data,0.3)"
      ],
      "metadata": {
        "id": "t82UfdighijE",
        "colab": {
          "base_uri": "https://localhost:8080/"
        },
        "outputId": "74f3bcbc-f1a4-469f-b930-e4338ac14a0d"
      },
      "execution_count": null,
      "outputs": [
        {
          "output_type": "execute_result",
          "data": {
            "text/plain": [
              "TtestResult(statistic=np.float64(2.2050588385131595), pvalue=np.float64(0.05853032968489765), df=np.int64(8))"
            ]
          },
          "metadata": {},
          "execution_count": 10
        }
      ]
    },
    {
      "cell_type": "code",
      "execution_count": null,
      "metadata": {
        "id": "hc7tfQMGr2wv",
        "colab": {
          "base_uri": "https://localhost:8080/"
        },
        "outputId": "af55d8c9-cadc-4e0a-eb55-5165c4a15ef3"
      },
      "outputs": [
        {
          "output_type": "execute_result",
          "data": {
            "text/plain": [
              "np.float64(0.029265164842448826)"
            ]
          },
          "metadata": {},
          "execution_count": 11
        }
      ],
      "source": [
        "#This gives two tail test p value so divide by 2 to get final p-value\n",
        "from scipy import stats\n",
        "p=stats.ttest_1samp(data,0.3)[1]\n",
        "p_value= p/2\n",
        "p_value"
      ]
    },
    {
      "cell_type": "code",
      "source": [],
      "metadata": {
        "id": "s1XRtnqC-Vu0"
      },
      "execution_count": null,
      "outputs": []
    },
    {
      "cell_type": "code",
      "source": [
        "data2=pd.Series([70,84,96,63,50,89,92,65,70,80])\n",
        "stats.ttest_1samp(data2,80)"
      ],
      "metadata": {
        "id": "9UfoCLkCbBoZ",
        "colab": {
          "base_uri": "https://localhost:8080/"
        },
        "outputId": "105d3576-8108-4cae-c37c-c238e87dfc7e"
      },
      "execution_count": null,
      "outputs": [
        {
          "output_type": "execute_result",
          "data": {
            "text/plain": [
              "TtestResult(statistic=np.float64(-0.8824292337730089), pvalue=np.float64(0.4004992968146376), df=np.int64(9))"
            ]
          },
          "metadata": {},
          "execution_count": 12
        }
      ]
    },
    {
      "cell_type": "code",
      "source": [
        "p=stats.ttest_1samp(data2,80)[1]\n",
        "p/2"
      ],
      "metadata": {
        "id": "muOjllxYbkmM",
        "colab": {
          "base_uri": "https://localhost:8080/"
        },
        "outputId": "c102a114-a5d5-4157-e7b8-f1b6d837300f"
      },
      "execution_count": null,
      "outputs": [
        {
          "output_type": "execute_result",
          "data": {
            "text/plain": [
              "np.float64(0.2002496484073188)"
            ]
          },
          "metadata": {},
          "execution_count": 13
        }
      ]
    },
    {
      "cell_type": "markdown",
      "source": [],
      "metadata": {
        "id": "9_pGQPOda_5m"
      }
    },
    {
      "cell_type": "markdown",
      "metadata": {
        "id": "HMx2yNuTr2ww"
      },
      "source": [
        "# Two Tail test"
      ]
    },
    {
      "cell_type": "code",
      "execution_count": null,
      "metadata": {
        "id": "WypiVFL1r2ww"
      },
      "outputs": [],
      "source": [
        "import pandas as pd\n",
        "Control=pd.Series([91, 87, 99, 77, 88, 91])\n",
        "Treat =pd.Series([101, 110, 103, 93, 99, 104])\n"
      ]
    },
    {
      "cell_type": "code",
      "execution_count": null,
      "metadata": {
        "id": "q3IRRbRTr2wx",
        "colab": {
          "base_uri": "https://localhost:8080/"
        },
        "outputId": "d4533c6a-d3f6-41a0-ed4d-771795aa6936"
      },
      "outputs": [
        {
          "output_type": "execute_result",
          "data": {
            "text/plain": [
              "TtestResult(statistic=np.float64(-3.4456126735364876), pvalue=np.float64(0.006272124350809803), df=np.float64(10.0))"
            ]
          },
          "metadata": {},
          "execution_count": 15
        }
      ],
      "source": [
        "import scipy.stats as stats\n",
        "stats.ttest_ind(Control,Treat)"
      ]
    },
    {
      "cell_type": "code",
      "source": [
        "stats.t.ppf(0.975,10)"
      ],
      "metadata": {
        "id": "7iHch8I7crJq",
        "colab": {
          "base_uri": "https://localhost:8080/"
        },
        "outputId": "3405f4c7-be67-40b8-ab81-8d93fc43545c"
      },
      "execution_count": null,
      "outputs": [
        {
          "output_type": "execute_result",
          "data": {
            "text/plain": [
              "np.float64(2.2281388519649385)"
            ]
          },
          "metadata": {},
          "execution_count": 16
        }
      ]
    },
    {
      "cell_type": "markdown",
      "metadata": {
        "id": "Nb2UH2DXr2wz"
      },
      "source": [
        "# 2 Proportion Test"
      ]
    },
    {
      "cell_type": "code",
      "execution_count": null,
      "metadata": {
        "id": "KeZJCCY4r2w1"
      },
      "outputs": [],
      "source": [
        "import numpy as np"
      ]
    },
    {
      "cell_type": "code",
      "execution_count": null,
      "metadata": {
        "id": "kdxKdbJXr2w2"
      },
      "outputs": [],
      "source": [
        "#Data:\n",
        "\n",
        "n1 = 247\n",
        "p1 = 0.37\n",
        "\n",
        "n2 = 308\n",
        "p2 = 0.39"
      ]
    },
    {
      "cell_type": "code",
      "execution_count": null,
      "metadata": {
        "id": "007cGmjNr2w2"
      },
      "outputs": [],
      "source": [
        "population1 = np.random.binomial(1, p1, n1)\n",
        "population2 = np.random.binomial(1, p2, n2)"
      ]
    },
    {
      "cell_type": "code",
      "execution_count": null,
      "metadata": {
        "id": "Nu0ygqcIr2w3",
        "colab": {
          "base_uri": "https://localhost:8080/"
        },
        "outputId": "ae99ad14-6fe8-483b-a6f0-22d59eb6f2fd"
      },
      "outputs": [
        {
          "output_type": "execute_result",
          "data": {
            "text/plain": [
              "array([0, 1, 0, 0, 0, 0, 0, 0, 0, 0, 0, 0, 1, 0, 0, 1, 0, 1, 1, 0, 0, 0,\n",
              "       1, 0, 0, 1, 1, 0, 0, 0, 1, 1, 0, 0, 1, 0, 0, 0, 0, 0, 0, 1, 0, 1,\n",
              "       0, 0, 1, 0, 0, 0, 0, 0, 1, 0, 0, 0, 0, 0, 0, 0, 0, 1, 0, 0, 0, 0,\n",
              "       1, 1, 0, 1, 0, 1, 1, 0, 0, 0, 0, 0, 0, 1, 1, 0, 0, 1, 1, 1, 1, 1,\n",
              "       0, 1, 0, 0, 0, 0, 0, 1, 1, 1, 1, 1, 1, 0, 1, 0, 1, 1, 1, 0, 0, 0,\n",
              "       1, 0, 1, 0, 0, 0, 1, 1, 0, 0, 0, 1, 0, 0, 0, 0, 0, 0, 1, 1, 0, 0,\n",
              "       0, 1, 1, 1, 1, 0, 1, 0, 0, 0, 1, 1, 0, 0, 1, 1, 0, 0, 0, 1, 0, 0,\n",
              "       1, 0, 0, 0, 0, 0, 0, 0, 0, 1, 1, 1, 0, 1, 0, 0, 1, 1, 0, 1, 0, 0,\n",
              "       0, 0, 1, 1, 1, 1, 0, 1, 1, 0, 0, 1, 1, 1, 1, 1, 0, 0, 0, 1, 1, 0,\n",
              "       0, 0, 0, 0, 0, 0, 1, 0, 0, 1, 0, 1, 1, 0, 1, 0, 0, 0, 0, 0, 0, 1,\n",
              "       1, 0, 0, 0, 0, 0, 1, 1, 0, 1, 0, 1, 0, 0, 0, 0, 1, 0, 0, 1, 0, 0,\n",
              "       0, 0, 0, 1, 1])"
            ]
          },
          "metadata": {},
          "execution_count": 20
        }
      ],
      "source": [
        "population1"
      ]
    },
    {
      "cell_type": "code",
      "execution_count": null,
      "metadata": {
        "id": "94CoUHGSr2w3",
        "colab": {
          "base_uri": "https://localhost:8080/"
        },
        "outputId": "372cfc9d-c004-430f-dc31-b823723c15ed"
      },
      "outputs": [
        {
          "output_type": "execute_result",
          "data": {
            "text/plain": [
              "array([1, 1, 0, 1, 0, 0, 0, 0, 0, 0, 1, 1, 0, 1, 0, 0, 1, 1, 0, 1, 0, 1,\n",
              "       1, 1, 1, 0, 1, 1, 0, 1, 1, 0, 1, 0, 0, 0, 1, 1, 1, 0, 0, 0, 0, 0,\n",
              "       0, 0, 1, 0, 1, 0, 0, 0, 0, 0, 0, 1, 0, 1, 0, 0, 0, 0, 1, 1, 0, 1,\n",
              "       0, 1, 1, 1, 1, 0, 1, 0, 0, 0, 1, 0, 0, 0, 1, 1, 1, 0, 1, 1, 0, 0,\n",
              "       0, 1, 1, 0, 1, 1, 0, 1, 0, 1, 0, 1, 1, 1, 0, 1, 0, 1, 0, 0, 0, 1,\n",
              "       0, 1, 1, 0, 0, 1, 1, 0, 0, 0, 0, 0, 1, 0, 1, 0, 1, 0, 0, 0, 0, 0,\n",
              "       0, 1, 0, 1, 1, 1, 1, 0, 0, 0, 0, 0, 0, 0, 0, 1, 1, 0, 0, 1, 0, 0,\n",
              "       0, 1, 1, 0, 0, 0, 0, 1, 1, 0, 0, 0, 0, 1, 0, 1, 1, 0, 1, 1, 1, 0,\n",
              "       1, 1, 0, 0, 0, 0, 1, 1, 1, 1, 0, 1, 1, 0, 0, 0, 0, 0, 0, 1, 0, 0,\n",
              "       1, 1, 0, 0, 0, 1, 1, 0, 1, 0, 1, 0, 1, 0, 1, 0, 0, 1, 1, 1, 0, 0,\n",
              "       0, 1, 0, 1, 0, 1, 0, 0, 1, 0, 1, 1, 1, 0, 0, 0, 0, 1, 0, 1, 0, 0,\n",
              "       1, 1, 0, 0, 0, 0, 0, 1, 0, 1, 0, 1, 1, 1, 0, 0, 0, 1, 1, 0, 0, 0,\n",
              "       1, 0, 1, 0, 1, 1, 0, 1, 1, 0, 0, 0, 0, 1, 0, 1, 1, 1, 1, 1, 0, 0,\n",
              "       0, 0, 0, 0, 0, 0, 0, 0, 0, 0, 0, 0, 1, 1, 0, 0, 0, 0, 1, 0, 0, 0])"
            ]
          },
          "metadata": {},
          "execution_count": 21
        }
      ],
      "source": [
        "population2"
      ]
    },
    {
      "cell_type": "code",
      "execution_count": null,
      "metadata": {
        "id": "PTjtvRf8r2w4",
        "colab": {
          "base_uri": "https://localhost:8080/"
        },
        "outputId": "d5d79372-9eb9-4b53-a107-5b47b4464b80"
      },
      "outputs": [
        {
          "output_type": "execute_result",
          "data": {
            "text/plain": [
              "TtestResult(statistic=np.float64(-1.1080424303213392), pvalue=np.float64(0.26832518146607814), df=np.float64(553.0))"
            ]
          },
          "metadata": {},
          "execution_count": 22
        }
      ],
      "source": [
        "from scipy import stats\n",
        "stats.ttest_ind(population1, population2)"
      ]
    },
    {
      "cell_type": "code",
      "execution_count": null,
      "metadata": {
        "id": "ZSPf7JZxr2w4",
        "colab": {
          "base_uri": "https://localhost:8080/"
        },
        "outputId": "fe9a76ac-869b-43d2-bf17-0ee785f36690"
      },
      "outputs": [
        {
          "output_type": "execute_result",
          "data": {
            "text/plain": [
              "array([6731, 9960, 9224, 8159, 8911, 6903, 6623, 6499, 6287, 5312, 9927,\n",
              "       7558, 3881, 8234, 4973, 6689, 3536, 4035, 8807,  930, 5024, 3304,\n",
              "       8165, 6503, 4061, 7815, 1103, 8248,  628, 8934, 5553, 1690, 1137,\n",
              "       4163, 7478, 5067, 6670, 2095, 4876, 8511, 1600,  444, 9138, 1293,\n",
              "       7481, 8375,  184, 6117, 3316, 3949, 3077, 1720, 9786, 4403, 8930,\n",
              "       5723, 4252, 6213, 6939, 5790, 7424, 4263,  236, 2995, 1304, 7487,\n",
              "       1876, 8618, 6392, 2112, 2536, 4809, 8176, 1395,  138, 9302, 1499,\n",
              "        470, 9575, 4917, 5774, 1018, 1936, 9868, 4665, 8014, 5239, 3160,\n",
              "       1097, 2093, 5685, 9967, 2281,  669, 8762, 4700, 6826, 7018, 6246,\n",
              "       1811])"
            ]
          },
          "metadata": {},
          "execution_count": 23
        }
      ],
      "source": [
        "np.random.randint(100,10000,100)"
      ]
    },
    {
      "cell_type": "code",
      "source": [
        "np.random.uniform(0,1,100)"
      ],
      "metadata": {
        "id": "nxCuAJGwu_E5",
        "colab": {
          "base_uri": "https://localhost:8080/"
        },
        "outputId": "439c693b-fb71-4ac0-dfcb-42c0af3dc59e"
      },
      "execution_count": null,
      "outputs": [
        {
          "output_type": "execute_result",
          "data": {
            "text/plain": [
              "array([0.56454299, 0.95457842, 0.21096529, 0.90789541, 0.25373929,\n",
              "       0.67633826, 0.76024756, 0.25789966, 0.52567555, 0.32449682,\n",
              "       0.49930374, 0.31271363, 0.52733942, 0.80940271, 0.91959735,\n",
              "       0.20104033, 0.07478337, 0.41657315, 0.7085963 , 0.16512628,\n",
              "       0.28496635, 0.26024704, 0.89229333, 0.85880226, 0.44120229,\n",
              "       0.33397316, 0.03497209, 0.62725455, 0.6005068 , 0.96949473,\n",
              "       0.06064825, 0.12725649, 0.39061585, 0.21705537, 0.13997118,\n",
              "       0.78858332, 0.83282101, 0.09128827, 0.0089064 , 0.63950163,\n",
              "       0.36383702, 0.03597582, 0.19551752, 0.50228277, 0.87320246,\n",
              "       0.3145371 , 0.50793291, 0.66344415, 0.49539953, 0.33062583,\n",
              "       0.62624205, 0.12646676, 0.36324582, 0.07204873, 0.84322592,\n",
              "       0.06502601, 0.74322341, 0.45909407, 0.26037586, 0.31706201,\n",
              "       0.56569027, 0.42849488, 0.10053067, 0.8731953 , 0.10352184,\n",
              "       0.76793189, 0.69122526, 0.44567527, 0.90014302, 0.30175176,\n",
              "       0.84404044, 0.08970023, 0.84646316, 0.77247724, 0.93499487,\n",
              "       0.48510185, 0.88674694, 0.7603904 , 0.69316901, 0.61423924,\n",
              "       0.26163969, 0.06253259, 0.21425661, 0.91407288, 0.51034509,\n",
              "       0.96911955, 0.22952708, 0.73310233, 0.77283825, 0.50511322,\n",
              "       0.84315038, 0.95596232, 0.89537501, 0.74305595, 0.80025418,\n",
              "       0.34697689, 0.03757212, 0.07082611, 0.08050172, 0.57469334])"
            ]
          },
          "metadata": {},
          "execution_count": 24
        }
      ]
    },
    {
      "cell_type": "code",
      "source": [
        "np.random.normal(5,25,100)   #5 mean,25sd,100 samples"
      ],
      "metadata": {
        "id": "FVMKIQlJgzjJ",
        "colab": {
          "base_uri": "https://localhost:8080/"
        },
        "outputId": "0009895c-83a1-4629-dc30-509c5e20a367"
      },
      "execution_count": null,
      "outputs": [
        {
          "output_type": "execute_result",
          "data": {
            "text/plain": [
              "array([-1.36578531e+01, -2.36984470e+01, -1.83152150e+01, -5.89406840e-02,\n",
              "       -2.92515735e+01, -1.55343375e+01, -6.16763764e+00, -1.22611396e+00,\n",
              "       -9.55964837e-01, -5.51041695e+00, -2.31891340e+00, -3.20922068e+01,\n",
              "        1.27071281e+01,  1.45953284e+01, -5.56691738e+00,  1.75615747e+01,\n",
              "        2.55058884e+01,  3.40203512e+01,  3.53041320e+01, -1.71175047e+01,\n",
              "        2.15436534e+01,  3.01189773e+01,  3.19297577e+01,  6.86921320e+00,\n",
              "       -4.92595764e+01,  1.03326060e+01, -2.73955134e+01, -1.03130322e+01,\n",
              "       -1.88193685e+01, -2.76822775e+00, -2.78950928e+00, -1.10014771e+01,\n",
              "        5.91325403e+00,  2.88302947e+01, -3.56626239e+00, -2.94827410e+01,\n",
              "        1.34282901e+01,  2.01262237e+01, -2.54445824e+01,  3.77104755e+01,\n",
              "       -6.93387038e+00,  4.45380763e+00, -8.35960887e+00,  9.94906162e+00,\n",
              "        3.87268930e+01,  2.81347025e+01,  4.41305630e+01,  1.63724793e+00,\n",
              "        2.75019950e+01,  1.63829586e+01,  3.82063921e+01, -2.52705692e+01,\n",
              "       -2.46452763e+01, -4.60996905e+00, -2.29880262e+01,  6.17496319e+01,\n",
              "       -8.27272625e+00, -2.02329257e+01, -4.81937225e-01,  3.59580481e+01,\n",
              "       -1.79008281e+01,  2.00263103e+01, -7.16356491e-01, -2.18581066e+01,\n",
              "        1.54292138e+01, -4.84942234e+00,  2.88952661e+01, -2.64063294e+01,\n",
              "        8.68879654e+00,  5.62703548e+01, -1.48023957e+01, -2.59192209e+01,\n",
              "        2.79530394e+00, -4.05003679e+01,  3.02894116e+01, -5.19112910e+01,\n",
              "        9.84165538e+00,  2.37051146e+01,  1.96592682e+00,  1.51372676e+01,\n",
              "        1.43025154e+01,  1.66668390e+01, -3.45106419e+00, -3.80774599e+01,\n",
              "        1.01896314e+01,  9.13268709e+00,  1.40922097e+01,  5.06292997e+01,\n",
              "       -2.08830611e+01,  1.26776108e+01, -2.16368157e+00, -2.95251349e+01,\n",
              "       -9.98096587e+00,  1.34804272e+01, -1.76024383e+01,  4.76897916e+01,\n",
              "        1.23097789e+01, -2.04798917e+01, -1.85086862e+01, -1.67519750e+01])"
            ]
          },
          "metadata": {},
          "execution_count": 25
        }
      ]
    },
    {
      "cell_type": "code",
      "source": [],
      "metadata": {
        "id": "tXW0jsNUhDjd"
      },
      "execution_count": null,
      "outputs": []
    },
    {
      "cell_type": "code",
      "source": [
        "import numpy as np\n",
        "\n",
        "z=(130-120)/(40/np.sqrt(80))"
      ],
      "metadata": {
        "id": "hJ8qP5rTJg2P"
      },
      "execution_count": null,
      "outputs": []
    },
    {
      "cell_type": "code",
      "source": [
        "z"
      ],
      "metadata": {
        "colab": {
          "base_uri": "https://localhost:8080/"
        },
        "id": "AnB95uMTJ8-d",
        "outputId": "5222739e-f850-423f-985e-38a7e1c74697"
      },
      "execution_count": null,
      "outputs": [
        {
          "output_type": "execute_result",
          "data": {
            "text/plain": [
              "np.float64(2.23606797749979)"
            ]
          },
          "metadata": {},
          "execution_count": 27
        }
      ]
    },
    {
      "cell_type": "code",
      "source": [
        "from scipy import stats\n",
        "stats.norm.ppf(0.975)"
      ],
      "metadata": {
        "colab": {
          "base_uri": "https://localhost:8080/"
        },
        "id": "rLSCeAyPJ9rI",
        "outputId": "3d4c74e3-b58c-4b78-ef5f-99032c4bd248"
      },
      "execution_count": null,
      "outputs": [
        {
          "output_type": "execute_result",
          "data": {
            "text/plain": [
              "np.float64(1.959963984540054)"
            ]
          },
          "metadata": {},
          "execution_count": 28
        }
      ]
    },
    {
      "cell_type": "code",
      "source": [
        "stats.t.ppf(0.975,79)"
      ],
      "metadata": {
        "colab": {
          "base_uri": "https://localhost:8080/"
        },
        "id": "zqC3-i7sKaR6",
        "outputId": "fb9b1134-8ee7-48de-b2f6-c57a54c3a4d3"
      },
      "execution_count": null,
      "outputs": [
        {
          "output_type": "execute_result",
          "data": {
            "text/plain": [
              "np.float64(1.9904502102301282)"
            ]
          },
          "metadata": {},
          "execution_count": 29
        }
      ]
    },
    {
      "cell_type": "code",
      "source": [],
      "metadata": {
        "id": "FPt2L5-gLlBc"
      },
      "execution_count": null,
      "outputs": []
    },
    {
      "cell_type": "code",
      "source": [
        "z=(4.1-4)/(3/np.sqrt(50))\n",
        "z"
      ],
      "metadata": {
        "colab": {
          "base_uri": "https://localhost:8080/"
        },
        "id": "Jo39DXvBSxJj",
        "outputId": "dc9819ad-eb26-4cf5-ee16-6569c9b5996d"
      },
      "execution_count": null,
      "outputs": [
        {
          "output_type": "execute_result",
          "data": {
            "text/plain": [
              "np.float64(0.235702260395515)"
            ]
          },
          "metadata": {},
          "execution_count": 30
        }
      ]
    },
    {
      "cell_type": "code",
      "source": [
        "stats.norm.ppf(0.975)"
      ],
      "metadata": {
        "colab": {
          "base_uri": "https://localhost:8080/"
        },
        "id": "6scqVyYJS_TC",
        "outputId": "ff47a635-b4c8-4e3a-a0a6-0020ec5de6a3"
      },
      "execution_count": null,
      "outputs": [
        {
          "output_type": "execute_result",
          "data": {
            "text/plain": [
              "np.float64(1.959963984540054)"
            ]
          },
          "metadata": {},
          "execution_count": 31
        }
      ]
    },
    {
      "cell_type": "code",
      "source": [
        "lst=[0.593, 0.142, 0.329, 0.691, 0.231, 0.793, 0.519, 0.392, 0.418]"
      ],
      "metadata": {
        "id": "W2dfxlTPTIeq"
      },
      "execution_count": null,
      "outputs": []
    },
    {
      "cell_type": "code",
      "source": [
        "import pandas as pd\n",
        "df=pd.Series(lst)\n",
        "df"
      ],
      "metadata": {
        "colab": {
          "base_uri": "https://localhost:8080/",
          "height": 366
        },
        "id": "t1FloGs9VuMy",
        "outputId": "c6b813c9-902c-48dd-9be3-3c9cd53d513f"
      },
      "execution_count": null,
      "outputs": [
        {
          "output_type": "execute_result",
          "data": {
            "text/plain": [
              "0    0.593\n",
              "1    0.142\n",
              "2    0.329\n",
              "3    0.691\n",
              "4    0.231\n",
              "5    0.793\n",
              "6    0.519\n",
              "7    0.392\n",
              "8    0.418\n",
              "dtype: float64"
            ],
            "text/html": [
              "<div>\n",
              "<style scoped>\n",
              "    .dataframe tbody tr th:only-of-type {\n",
              "        vertical-align: middle;\n",
              "    }\n",
              "\n",
              "    .dataframe tbody tr th {\n",
              "        vertical-align: top;\n",
              "    }\n",
              "\n",
              "    .dataframe thead th {\n",
              "        text-align: right;\n",
              "    }\n",
              "</style>\n",
              "<table border=\"1\" class=\"dataframe\">\n",
              "  <thead>\n",
              "    <tr style=\"text-align: right;\">\n",
              "      <th></th>\n",
              "      <th>0</th>\n",
              "    </tr>\n",
              "  </thead>\n",
              "  <tbody>\n",
              "    <tr>\n",
              "      <th>0</th>\n",
              "      <td>0.593</td>\n",
              "    </tr>\n",
              "    <tr>\n",
              "      <th>1</th>\n",
              "      <td>0.142</td>\n",
              "    </tr>\n",
              "    <tr>\n",
              "      <th>2</th>\n",
              "      <td>0.329</td>\n",
              "    </tr>\n",
              "    <tr>\n",
              "      <th>3</th>\n",
              "      <td>0.691</td>\n",
              "    </tr>\n",
              "    <tr>\n",
              "      <th>4</th>\n",
              "      <td>0.231</td>\n",
              "    </tr>\n",
              "    <tr>\n",
              "      <th>5</th>\n",
              "      <td>0.793</td>\n",
              "    </tr>\n",
              "    <tr>\n",
              "      <th>6</th>\n",
              "      <td>0.519</td>\n",
              "    </tr>\n",
              "    <tr>\n",
              "      <th>7</th>\n",
              "      <td>0.392</td>\n",
              "    </tr>\n",
              "    <tr>\n",
              "      <th>8</th>\n",
              "      <td>0.418</td>\n",
              "    </tr>\n",
              "  </tbody>\n",
              "</table>\n",
              "</div><br><label><b>dtype:</b> float64</label>"
            ]
          },
          "metadata": {},
          "execution_count": 33
        }
      ]
    },
    {
      "cell_type": "code",
      "source": [
        "stats.ttest_1samp(df,0.3)"
      ],
      "metadata": {
        "colab": {
          "base_uri": "https://localhost:8080/"
        },
        "id": "kYaHgbyAVwxy",
        "outputId": "8ce913d6-2386-47a9-c3ab-cfea90b3f472"
      },
      "execution_count": null,
      "outputs": [
        {
          "output_type": "execute_result",
          "data": {
            "text/plain": [
              "TtestResult(statistic=np.float64(2.2050588385131595), pvalue=np.float64(0.05853032968489765), df=np.int64(8))"
            ]
          },
          "metadata": {},
          "execution_count": 34
        }
      ]
    },
    {
      "cell_type": "code",
      "source": [
        "stats.ttest_1samp(df,0.3)[1]/2\n"
      ],
      "metadata": {
        "colab": {
          "base_uri": "https://localhost:8080/"
        },
        "id": "P0wgmH_pWQco",
        "outputId": "52168a5a-5172-45f6-bb7b-4681e2e82f97"
      },
      "execution_count": null,
      "outputs": [
        {
          "output_type": "execute_result",
          "data": {
            "text/plain": [
              "np.float64(0.029265164842448826)"
            ]
          },
          "metadata": {},
          "execution_count": 35
        }
      ]
    },
    {
      "cell_type": "code",
      "source": [
        "va=[]\n"
      ],
      "metadata": {
        "id": "qzRdK0DeW-Ka"
      },
      "execution_count": null,
      "outputs": []
    },
    {
      "cell_type": "code",
      "source": [
        "n1=247\n",
        "p1=0.37\n"
      ],
      "metadata": {
        "id": "pOfrgzaNOpxc"
      },
      "execution_count": null,
      "outputs": []
    },
    {
      "cell_type": "code",
      "source": [
        "import numpy as np\n",
        "popA=np.random.binomial(1,p1,n1)\n",
        "popA"
      ],
      "metadata": {
        "colab": {
          "base_uri": "https://localhost:8080/"
        },
        "id": "IZkwqSOdOpt-",
        "outputId": "a882338c-c50d-4f50-f729-16c6d4f6af96"
      },
      "execution_count": null,
      "outputs": [
        {
          "output_type": "execute_result",
          "data": {
            "text/plain": [
              "array([0, 0, 0, 1, 0, 0, 1, 1, 0, 0, 0, 0, 0, 1, 1, 1, 0, 1, 1, 0, 1, 0,\n",
              "       0, 1, 0, 1, 1, 1, 0, 0, 1, 0, 0, 1, 1, 1, 1, 1, 1, 1, 1, 0, 0, 0,\n",
              "       0, 0, 0, 1, 0, 0, 0, 0, 1, 1, 1, 0, 1, 1, 1, 1, 1, 0, 1, 0, 1, 1,\n",
              "       1, 0, 1, 1, 0, 0, 1, 1, 1, 0, 1, 0, 0, 1, 1, 1, 0, 1, 0, 0, 1, 1,\n",
              "       0, 0, 1, 0, 0, 0, 0, 1, 0, 0, 0, 0, 1, 0, 0, 0, 1, 0, 0, 1, 0, 0,\n",
              "       0, 0, 1, 1, 0, 0, 0, 0, 0, 1, 0, 0, 0, 1, 0, 0, 1, 0, 0, 0, 1, 1,\n",
              "       1, 1, 1, 1, 1, 0, 1, 1, 0, 1, 1, 0, 0, 1, 1, 1, 0, 0, 1, 1, 1, 0,\n",
              "       0, 0, 1, 0, 1, 1, 0, 1, 0, 0, 0, 0, 1, 0, 0, 0, 1, 0, 1, 0, 1, 0,\n",
              "       0, 1, 1, 0, 1, 0, 1, 0, 0, 0, 0, 0, 0, 0, 1, 1, 1, 0, 1, 0, 0, 0,\n",
              "       0, 1, 0, 0, 1, 0, 1, 0, 0, 0, 1, 1, 0, 0, 0, 0, 1, 0, 0, 1, 0, 1,\n",
              "       0, 0, 0, 0, 0, 1, 1, 0, 1, 1, 1, 1, 1, 0, 0, 0, 0, 1, 0, 0, 0, 0,\n",
              "       0, 0, 0, 0, 1])"
            ]
          },
          "metadata": {},
          "execution_count": 38
        }
      ]
    },
    {
      "cell_type": "code",
      "source": [
        "n2=308\n",
        "p2=0.39\n",
        "popB=np.random.binomial(1,p2,n2)\n",
        "popB"
      ],
      "metadata": {
        "colab": {
          "base_uri": "https://localhost:8080/"
        },
        "id": "Fiacl_RxOpod",
        "outputId": "87dc919d-d663-4f10-be57-9481178b30b8"
      },
      "execution_count": null,
      "outputs": [
        {
          "output_type": "execute_result",
          "data": {
            "text/plain": [
              "array([0, 0, 1, 0, 0, 0, 0, 1, 1, 0, 1, 1, 1, 0, 0, 0, 1, 0, 0, 0, 0, 0,\n",
              "       0, 0, 1, 1, 1, 0, 1, 1, 0, 1, 0, 0, 1, 1, 1, 1, 0, 1, 0, 0, 1, 0,\n",
              "       1, 0, 0, 1, 1, 0, 0, 0, 0, 1, 0, 1, 0, 1, 1, 1, 1, 1, 0, 0, 0, 1,\n",
              "       0, 1, 0, 0, 0, 1, 0, 1, 0, 1, 1, 0, 1, 1, 0, 1, 0, 0, 0, 1, 1, 0,\n",
              "       0, 0, 0, 1, 1, 0, 0, 0, 0, 1, 0, 0, 1, 1, 0, 0, 0, 0, 1, 0, 1, 1,\n",
              "       0, 1, 0, 1, 1, 1, 1, 0, 0, 0, 0, 1, 0, 0, 1, 0, 0, 0, 0, 0, 0, 0,\n",
              "       1, 0, 0, 0, 0, 0, 0, 0, 0, 0, 1, 1, 0, 1, 1, 0, 0, 0, 0, 1, 1, 0,\n",
              "       1, 0, 0, 0, 1, 1, 0, 1, 0, 0, 0, 0, 0, 0, 0, 0, 0, 0, 1, 0, 0, 0,\n",
              "       0, 1, 0, 1, 0, 0, 1, 1, 1, 1, 0, 0, 1, 1, 1, 0, 0, 1, 0, 0, 0, 0,\n",
              "       1, 0, 1, 1, 0, 0, 1, 1, 0, 1, 1, 1, 0, 0, 1, 1, 1, 1, 1, 0, 0, 1,\n",
              "       1, 1, 1, 0, 0, 1, 0, 0, 0, 1, 1, 0, 0, 0, 1, 0, 0, 0, 0, 0, 0, 0,\n",
              "       0, 0, 1, 1, 1, 1, 1, 0, 0, 0, 0, 0, 0, 0, 1, 1, 1, 0, 0, 1, 0, 0,\n",
              "       1, 0, 0, 0, 0, 0, 0, 0, 0, 1, 0, 1, 0, 0, 0, 0, 1, 1, 0, 1, 1, 0,\n",
              "       1, 1, 0, 1, 0, 0, 1, 1, 1, 1, 0, 1, 0, 0, 0, 1, 1, 0, 0, 1, 0, 1])"
            ]
          },
          "metadata": {},
          "execution_count": 39
        }
      ]
    },
    {
      "cell_type": "code",
      "source": [
        "stats.ttest_ind(popA,popB)"
      ],
      "metadata": {
        "colab": {
          "base_uri": "https://localhost:8080/"
        },
        "id": "tyB40mPfPr_o",
        "outputId": "5d8b88f5-80be-44f9-b693-af4af63457ec"
      },
      "execution_count": null,
      "outputs": [
        {
          "output_type": "execute_result",
          "data": {
            "text/plain": [
              "TtestResult(statistic=np.float64(0.5710316355745881), pvalue=np.float64(0.5682101765417185), df=np.float64(553.0))"
            ]
          },
          "metadata": {},
          "execution_count": 40
        }
      ]
    },
    {
      "cell_type": "code",
      "source": [],
      "metadata": {
        "id": "JAMCrD8iP6Ou"
      },
      "execution_count": null,
      "outputs": []
    },
    {
      "cell_type": "code",
      "source": [
        "np.random.randint(1,100,100)"
      ],
      "metadata": {
        "colab": {
          "base_uri": "https://localhost:8080/"
        },
        "id": "4_JXJauDQmsM",
        "outputId": "0b12a2ea-80d5-4502-c0ec-2019aa4044af"
      },
      "execution_count": null,
      "outputs": [
        {
          "output_type": "execute_result",
          "data": {
            "text/plain": [
              "array([67,  2, 18, 94, 21,  6, 50, 38, 43, 93, 95, 62, 12, 31, 62, 14, 47,\n",
              "       34, 69, 82, 93,  5, 38, 92, 65, 86,  7,  2, 99, 43, 25, 66, 28, 31,\n",
              "       25, 72, 27, 62, 89, 79, 78, 22, 20, 16, 46, 65, 30, 44, 55, 55, 23,\n",
              "       80, 68,  6, 48, 58, 75, 27, 71, 57, 28, 82, 70, 12, 52, 82, 72, 92,\n",
              "       99, 95, 34, 24, 97, 65, 82, 70, 77, 49,  4, 27, 57, 86,  6, 69, 40,\n",
              "       99, 20, 75, 68, 29,  4, 65, 89, 37, 37, 51, 61,  9, 42, 80])"
            ]
          },
          "metadata": {},
          "execution_count": 41
        }
      ]
    },
    {
      "cell_type": "code",
      "source": [
        "np.random.uniform(0,1,100)"
      ],
      "metadata": {
        "colab": {
          "base_uri": "https://localhost:8080/"
        },
        "id": "Hk0H2EJEQ3fP",
        "outputId": "b8a24ee8-1d39-439f-a10a-a27f6d6768c5"
      },
      "execution_count": null,
      "outputs": [
        {
          "output_type": "execute_result",
          "data": {
            "text/plain": [
              "array([0.15392417, 0.23295282, 0.66117622, 0.63635275, 0.89916081,\n",
              "       0.28673088, 0.46148706, 0.45558405, 0.55309459, 0.31849468,\n",
              "       0.71366251, 0.58963178, 0.65265848, 0.66368375, 0.70211068,\n",
              "       0.69146772, 0.79032917, 0.40292254, 0.83607993, 0.44474384,\n",
              "       0.4227162 , 0.72822101, 0.41192131, 0.21942565, 0.17852562,\n",
              "       0.62023142, 0.08356408, 0.01405033, 0.07136384, 0.48211   ,\n",
              "       0.1198117 , 0.36945959, 0.33895172, 0.0289873 , 0.33586612,\n",
              "       0.54604838, 0.69436481, 0.07346921, 0.95473344, 0.48546358,\n",
              "       0.68367107, 0.78548083, 0.63085157, 0.95807307, 0.72550405,\n",
              "       0.74998454, 0.41556905, 0.44724969, 0.65645028, 0.47699711,\n",
              "       0.25763154, 0.54695536, 0.42465746, 0.70065394, 0.20843651,\n",
              "       0.28489417, 0.73034829, 0.49864769, 0.73974775, 0.69662061,\n",
              "       0.47076448, 0.22065946, 0.5518451 , 0.33755835, 0.46873087,\n",
              "       0.64866118, 0.97764833, 0.18282258, 0.18277136, 0.13477773,\n",
              "       0.02117465, 0.71388296, 0.78037714, 0.3089629 , 0.75635113,\n",
              "       0.65497091, 0.26868919, 0.66347658, 0.32803858, 0.76156052,\n",
              "       0.11096218, 0.22798404, 0.72359434, 0.9267001 , 0.52513522,\n",
              "       0.10604341, 0.0026471 , 0.80211586, 0.95797723, 0.4577582 ,\n",
              "       0.52994263, 0.13047341, 0.54617093, 0.62306508, 0.88998518,\n",
              "       0.55478759, 0.12103734, 0.21287999, 0.42640081, 0.17362364])"
            ]
          },
          "metadata": {},
          "execution_count": 42
        }
      ]
    },
    {
      "cell_type": "code",
      "source": [
        "np.random.normal(30,25,100)"
      ],
      "metadata": {
        "colab": {
          "base_uri": "https://localhost:8080/"
        },
        "id": "JZ_DIp3kRL0d",
        "outputId": "64e052b2-0e52-427b-80d1-7338ce35c265"
      },
      "execution_count": null,
      "outputs": [
        {
          "output_type": "execute_result",
          "data": {
            "text/plain": [
              "array([ 4.65477305e+01,  4.58931335e+01,  6.55833029e+01,  4.70673695e+01,\n",
              "        1.89066393e+01,  4.43053628e+01,  8.96991121e+01,  8.80189132e-02,\n",
              "        1.65997157e+01,  6.38345116e+01,  2.33051198e+01,  6.63843919e+01,\n",
              "        1.45052926e+01,  2.36732822e+01,  3.99046677e+01,  3.37244687e+01,\n",
              "        2.40752068e+01,  7.25700158e+00,  3.73423922e+01,  5.24723348e+01,\n",
              "       -9.42938376e+00,  7.47354897e+01,  3.00188341e+01,  5.57668004e+01,\n",
              "       -3.46942758e+00,  5.57333037e+01,  6.72520804e+01,  1.69159145e+01,\n",
              "        5.38951961e+01,  1.23673752e+01,  9.69104625e+00,  9.12682596e+01,\n",
              "        5.91583245e+01,  2.11976184e+01,  3.78941824e+01,  1.40513470e+01,\n",
              "        1.18322065e+02,  2.46512697e+01,  3.45391368e+01, -1.96272330e+01,\n",
              "        4.96506108e+01, -8.67957539e+00,  3.60737485e+01, -1.11367679e+01,\n",
              "        2.06444173e+01, -1.28214338e+01,  4.59744499e+01,  1.75601886e+01,\n",
              "        3.18575975e+01, -1.72093733e+01,  3.06089978e+01,  2.09488647e+01,\n",
              "        5.85983457e+01,  4.61589630e+01, -3.02624479e+01,  3.25439032e+01,\n",
              "        3.92069544e+01,  4.70222141e+01,  3.15105765e+01,  7.60272764e+01,\n",
              "        9.69254240e+01,  2.32991988e+01,  3.03492395e+01,  3.48831956e+01,\n",
              "        6.26822305e+00, -4.93208759e+00,  5.31153088e+00,  6.66965438e+01,\n",
              "        6.57391092e+00,  2.45834772e+01,  6.84458245e+01, -1.11693915e+01,\n",
              "        4.12844961e+01,  6.51724602e+01,  5.61049393e-01,  1.93708400e+00,\n",
              "        5.43325139e+01,  2.36264635e+01,  5.04580086e+01,  5.57256565e+01,\n",
              "        9.02013370e+00,  7.58379576e+01,  5.30293857e+01,  5.15168313e+01,\n",
              "        3.41994995e+01,  5.76898548e+01,  4.26565619e+01,  5.04351751e+01,\n",
              "        4.08273195e+01,  5.64865488e-02,  4.18548786e+01,  2.95604553e+01,\n",
              "        3.30512962e+01,  2.26497612e+00,  3.56498218e+01,  3.15832808e+01,\n",
              "        7.40890744e+01,  8.74937778e+00,  2.16938704e+01,  4.04519758e+01])"
            ]
          },
          "metadata": {},
          "execution_count": 43
        }
      ]
    },
    {
      "cell_type": "code",
      "source": [],
      "metadata": {
        "id": "Ha36YJufRrWa"
      },
      "execution_count": null,
      "outputs": []
    },
    {
      "cell_type": "code",
      "source": [
        "from scipy import stats\n",
        "import numpy as np"
      ],
      "metadata": {
        "id": "ro0UeWiC0rJ4"
      },
      "execution_count": 1,
      "outputs": []
    },
    {
      "cell_type": "code",
      "source": [
        "#H0:mu<=120, Donot launch loyalty program\n",
        "#H1:mu>120, Launch loyalty program\n",
        "\n",
        "#test: t-test\n",
        "\n",
        "#sample study\n",
        "alpha= 0.05\n",
        "n=80\n",
        "x_bar=130\n",
        "s=40\n",
        "mu=120\n",
        "\n",
        "#t-calculation\n",
        "t_cal=(x_bar-mu)/(s/np.sqrt(n))\n",
        "t_cal"
      ],
      "metadata": {
        "colab": {
          "base_uri": "https://localhost:8080/"
        },
        "id": "amsrmkhN0yCv",
        "outputId": "abc09a65-f6f8-4f4f-9672-034716adcd51"
      },
      "execution_count": 3,
      "outputs": [
        {
          "output_type": "execute_result",
          "data": {
            "text/plain": [
              "np.float64(2.23606797749979)"
            ]
          },
          "metadata": {},
          "execution_count": 3
        }
      ]
    },
    {
      "cell_type": "code",
      "source": [
        "t_crit=stats.t.ppf(1-(alpha/2),n-1)"
      ],
      "metadata": {
        "id": "gfV5kbfp1lHG"
      },
      "execution_count": 4,
      "outputs": []
    },
    {
      "cell_type": "code",
      "source": [
        "#Conclusion: since t_cal>t_crit, we reject HO\n",
        "#i.e., on an average the customers are spending more than 120$ per week, hence the shopkeeper\n",
        "#may launch the loyalty program\n",
        "\n",
        "if t_cal<=t_crit:\n",
        "  print(\"Accept Null Hypothesis, i.e, on an average the customers are spending less than 120$ per week, hence the shopkeeper must not launch the loyalty program\")\n",
        "else:\n",
        "  print(\"Reject Null Hypothesis, i.e, on an average the customers are spending more than 120$ per week, hence the shopkeeper may launch the loyalty program\")\n"
      ],
      "metadata": {
        "colab": {
          "base_uri": "https://localhost:8080/"
        },
        "id": "pBoieRi513p9",
        "outputId": "1f709f85-3b22-47d3-b1bb-db80851ba59d"
      },
      "execution_count": null,
      "outputs": [
        {
          "output_type": "stream",
          "name": "stdout",
          "text": [
            "Reject Null Hypothesis, i.e, on an average the customers are spending more than 120$ per week, hence the shopkeeper may launch the loyalty program\n"
          ]
        }
      ]
    },
    {
      "cell_type": "code",
      "source": [
        "stats.norm.ppf(1-(alpha/2))"
      ],
      "metadata": {
        "colab": {
          "base_uri": "https://localhost:8080/"
        },
        "id": "3oEIRaa03QQW",
        "outputId": "e6f65cf9-dbf4-4619-dc50-7c03b8397d15"
      },
      "execution_count": null,
      "outputs": [
        {
          "output_type": "execute_result",
          "data": {
            "text/plain": [
              "np.float64(1.959963984540054)"
            ]
          },
          "metadata": {},
          "execution_count": 48
        }
      ]
    },
    {
      "cell_type": "code",
      "source": [],
      "metadata": {
        "id": "1GC2Uvkf5PHQ"
      },
      "execution_count": null,
      "outputs": []
    },
    {
      "cell_type": "markdown",
      "source": [
        "# Call center example"
      ],
      "metadata": {
        "id": "wFUbky3bAKE3"
      }
    },
    {
      "cell_type": "code",
      "source": [
        "mu=4\n",
        "sigma=3\n",
        "n=50\n",
        "x_bar=float(input(\"enter the sample mean:\"))\n",
        "alpha=0.05\n",
        "\n",
        "#H0: mu=4, i.e., the process is normal, no action is needed\n",
        "#H1: mu!=4, i.e., the process is not normal, immediate action is needed (two-tailed test)\n",
        "#test: z-test, since n>30 and sigma is known\n",
        "\n",
        "z_cal=(x_bar-mu)/(sigma/np.sqrt(n))\n",
        "z_crit=stats.norm.ppf(1-alpha/2)\n",
        "\n",
        "if np.absolute(z_cal)<=np.absolute(z_crit):\n",
        "  print(\"Accept null hypothesis. Hence,The process is normal, no action is needed\")\n",
        "else:\n",
        "  print(\"Reject null hypothesis. Hence,the process is not normal, immediate action is needed\")"
      ],
      "metadata": {
        "colab": {
          "base_uri": "https://localhost:8080/"
        },
        "id": "eN4oWZm6AL5H",
        "outputId": "3f88d576-257e-4646-b5eb-eac15ade0166"
      },
      "execution_count": null,
      "outputs": [
        {
          "output_type": "stream",
          "name": "stdout",
          "text": [
            "enter the sample mean:2\n",
            "Reject null hypothesis. Hence,the process is not normal, immediate action is needed\n"
          ]
        }
      ]
    },
    {
      "cell_type": "code",
      "source": [
        "np.absolute(-3.7)"
      ],
      "metadata": {
        "colab": {
          "base_uri": "https://localhost:8080/"
        },
        "id": "NEyXIjZEB3dd",
        "outputId": "c3669cb3-42b2-4217-9b37-de8ff0188412"
      },
      "execution_count": null,
      "outputs": [
        {
          "output_type": "execute_result",
          "data": {
            "text/plain": [
              "np.float64(3.7)"
            ]
          },
          "metadata": {},
          "execution_count": 50
        }
      ]
    },
    {
      "cell_type": "code",
      "source": [],
      "metadata": {
        "id": "cJ3TTHkuCWXH"
      },
      "execution_count": null,
      "outputs": []
    },
    {
      "cell_type": "markdown",
      "source": [
        "#icecream factor problem"
      ],
      "metadata": {
        "id": "uWCgGMxNEYIW"
      }
    },
    {
      "cell_type": "code",
      "source": [
        "import pandas as pd"
      ],
      "metadata": {
        "id": "vpH2fKW2FOz6"
      },
      "execution_count": null,
      "outputs": []
    },
    {
      "cell_type": "code",
      "source": [
        "n=9\n",
        "mu=0.3\n",
        "alpha=0.05\n",
        "\n",
        "#H0: mu<=0.3, the disease is not due to icecream factory, no action is needed\n",
        "#H1: mu>0.3, the disease is due to the icecream factory, shut down immediately(one tailed)\n",
        "\n",
        "data=[0.593, 0.142, 0.329, 0.691, 0.231, 0.793, 0.519, 0.392, 0.418]\n",
        "stats.ttest_1samp(data,0.3)"
      ],
      "metadata": {
        "colab": {
          "base_uri": "https://localhost:8080/"
        },
        "id": "YElIBrWJEapC",
        "outputId": "f5117900-6fbf-4217-a8a4-d3da1651d162"
      },
      "execution_count": null,
      "outputs": [
        {
          "output_type": "execute_result",
          "data": {
            "text/plain": [
              "TtestResult(statistic=np.float64(2.2050588385131595), pvalue=np.float64(0.05853032968489765), df=np.int64(8))"
            ]
          },
          "metadata": {},
          "execution_count": 8
        }
      ]
    },
    {
      "cell_type": "code",
      "source": [
        "p_val=stats.ttest_1samp(data,0.3)[1]/2"
      ],
      "metadata": {
        "id": "cDLDrKtnFoW5"
      },
      "execution_count": null,
      "outputs": []
    },
    {
      "cell_type": "code",
      "source": [
        "if p_val<alpha:\n",
        "  print(\"Reject Null Hypothesis,the disease is due to the icecream factory, shut down immediately\")\n",
        "else:\n",
        "  print(\"Accept null hypothesis,the disease is not due to icecream factory, no action is needed \")"
      ],
      "metadata": {
        "colab": {
          "base_uri": "https://localhost:8080/"
        },
        "id": "j8-AVGt9GFoR",
        "outputId": "5adcc73b-1cb4-4b41-b13b-d0b6ffa59a87"
      },
      "execution_count": null,
      "outputs": [
        {
          "output_type": "stream",
          "name": "stdout",
          "text": [
            "Reject Null Hypothesis,the disease is due to the icecream factory, shut down immediately\n"
          ]
        }
      ]
    },
    {
      "cell_type": "markdown",
      "source": [
        "# Control and treatment grp problem"
      ],
      "metadata": {
        "id": "04eFTfBdII3-"
      }
    },
    {
      "cell_type": "code",
      "source": [
        "#H0: mu1=mu2, there is no significant difference between control group and the treatment group\n",
        "#H1: mu1!=mu2, there is a significant diffence between control grp and treatment group(two-tailed test)\n",
        "\n",
        "control=[91, 87, 99, 77, 88, 91]\n",
        "treat=[101, 110, 103, 93, 99, 104]\n",
        "\n",
        "stats.ttest_ind(control,treat)"
      ],
      "metadata": {
        "colab": {
          "base_uri": "https://localhost:8080/"
        },
        "id": "kTvszDTKG6QW",
        "outputId": "46040bb3-f7b7-4370-e226-88af86f3392a"
      },
      "execution_count": null,
      "outputs": [
        {
          "output_type": "execute_result",
          "data": {
            "text/plain": [
              "TtestResult(statistic=np.float64(-3.4456126735364876), pvalue=np.float64(0.006272124350809803), df=np.float64(10.0))"
            ]
          },
          "metadata": {},
          "execution_count": 11
        }
      ]
    },
    {
      "cell_type": "code",
      "source": [
        "p_val=stats.ttest_ind(control,treat)[1]"
      ],
      "metadata": {
        "id": "WfaW6HvkJDNz"
      },
      "execution_count": null,
      "outputs": []
    },
    {
      "cell_type": "code",
      "source": [
        "if p_val<alpha:\n",
        "  print(\"Reject Null Hypothesis,there is a significant diffence between control group and treatment group\")\n",
        "else:\n",
        "  print(\"Accept null hypothesis,there is no significant difference between control group and the treatment group \")"
      ],
      "metadata": {
        "colab": {
          "base_uri": "https://localhost:8080/"
        },
        "id": "gpP3Z4kUJGZY",
        "outputId": "9ae0c0f1-a4af-42f7-da68-b9dea94d9368"
      },
      "execution_count": null,
      "outputs": [
        {
          "output_type": "stream",
          "name": "stdout",
          "text": [
            "Reject Null Hypothesis,there is a significant diffence between control group and treatment group\n"
          ]
        }
      ]
    },
    {
      "cell_type": "code",
      "source": [],
      "metadata": {
        "id": "flHOVEI0JT8E"
      },
      "execution_count": null,
      "outputs": []
    },
    {
      "cell_type": "markdown",
      "source": [
        "#2 proportion  test"
      ],
      "metadata": {
        "id": "ihJSPxNt-FVu"
      }
    },
    {
      "cell_type": "markdown",
      "source": [],
      "metadata": {
        "id": "yGbFSHvl-FMS"
      }
    },
    {
      "cell_type": "code",
      "source": [
        "#H0: P1=P2, i.e., the proportion of state 1 and state 2 student population getting placed immediately after education is same\n",
        "#(or) there is no significant difference between proportion of state 1 and state 2 population getting job immediately after education\n",
        "\n",
        "#H1: P1 != P2, i.e., the proportion of state 1 and state 2 student population getting placed immediately after education is different\n",
        "#(or) there is a significant difference between proportion of state 1 and state 2 population getting job immediately after education\n",
        "\n",
        "#test: t-test\n",
        "\n",
        "alpha=0.05\n",
        "n1=247\n",
        "p1=0.37\n",
        "n2=308\n",
        "p2=0.39\n",
        "\n",
        "#let us generate random data following binomial distribution for both the states\n",
        "import numpy as np\n",
        "pop1=np.random.binomial(1,p1,n1)\n",
        "pop2=np.random.binomial(1,p2,n2)"
      ],
      "metadata": {
        "id": "Bt42YQZI-KqL"
      },
      "execution_count": null,
      "outputs": []
    },
    {
      "cell_type": "code",
      "source": [
        "import scipy.stats as st\n",
        "st.ttest_ind(pop1,pop2)"
      ],
      "metadata": {
        "colab": {
          "base_uri": "https://localhost:8080/"
        },
        "id": "EvIcAY5M-bA2",
        "outputId": "11bf3178-c9fb-43ef-f0f5-119215402e35"
      },
      "execution_count": null,
      "outputs": [
        {
          "output_type": "execute_result",
          "data": {
            "text/plain": [
              "TtestResult(statistic=np.float64(-0.9128226506643562), pvalue=np.float64(0.36173360188637405), df=np.float64(553.0))"
            ]
          },
          "metadata": {},
          "execution_count": 16
        }
      ]
    },
    {
      "cell_type": "code",
      "source": [
        "p_val=st.ttest_ind(pop1,pop2)[1]\n",
        "if p_val<alpha:\n",
        "  print(\"Reject Null Hypothesis,there is a significant diffence between state 1 proportion and state2 proportion\")\n",
        "else:\n",
        "  print(\"Accept null hypothesis,there is no significant difference between state 1 proportion and state2 proportion\")\n"
      ],
      "metadata": {
        "colab": {
          "base_uri": "https://localhost:8080/"
        },
        "id": "aFpv5OI-_8wi",
        "outputId": "5eed2e47-4993-4690-ad7d-593658057579"
      },
      "execution_count": null,
      "outputs": [
        {
          "output_type": "stream",
          "name": "stdout",
          "text": [
            "Accept null hypothesis,there is no significant difference between state 1 proportion and state2 proportion\n"
          ]
        }
      ]
    },
    {
      "cell_type": "code",
      "source": [],
      "metadata": {
        "id": "lipC30fABCYS"
      },
      "execution_count": null,
      "outputs": []
    }
  ],
  "metadata": {
    "kernelspec": {
      "display_name": "Python 3",
      "language": "python",
      "name": "python3"
    },
    "language_info": {
      "codemirror_mode": {
        "name": "ipython",
        "version": 3
      },
      "file_extension": ".py",
      "mimetype": "text/x-python",
      "name": "python",
      "nbconvert_exporter": "python",
      "pygments_lexer": "ipython3",
      "version": "3.7.4"
    },
    "colab": {
      "provenance": []
    }
  },
  "nbformat": 4,
  "nbformat_minor": 0
}
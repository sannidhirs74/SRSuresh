{
  "cells": [
    {
      "cell_type": "code",
      "execution_count": null,
      "metadata": {
        "id": "7kGUwxjs1mEW"
      },
      "outputs": [],
      "source": [
        "import pandas as pd\n",
        "import matplotlib.pyplot as plt\n",
        "import seaborn as sns\n",
        "import statsmodels.formula.api as smf\n",
        "import numpy as np"
      ]
    },
    {
      "cell_type": "code",
      "execution_count": null,
      "metadata": {
        "id": "P2OfkmNQ1mEX"
      },
      "outputs": [],
      "source": [
        "#Read the data\n",
        "cars = pd.read_csv(\"Cars.csv\")\n",
        "cars.head()"
      ]
    },
    {
      "cell_type": "code",
      "execution_count": null,
      "metadata": {
        "id": "K6RhCFxv1mEX"
      },
      "outputs": [],
      "source": [
        "cars.info()"
      ]
    },
    {
      "cell_type": "code",
      "execution_count": null,
      "metadata": {
        "id": "YSVRAWc-1mEX"
      },
      "outputs": [],
      "source": [
        "#check for missing values\n",
        "cars.isna().sum()"
      ]
    },
    {
      "cell_type": "markdown",
      "metadata": {
        "id": "YDsHdq2J1mEX"
      },
      "source": [
        "# Correlation Matrix"
      ]
    },
    {
      "cell_type": "code",
      "execution_count": null,
      "metadata": {
        "id": "lGcsxlFF1mEY"
      },
      "outputs": [],
      "source": [
        "sns.heatmap(cars.corr(),annot=True)"
      ]
    },
    {
      "cell_type": "markdown",
      "metadata": {
        "id": "280u-USQ1mEY"
      },
      "source": [
        "# Scatterplot between variables along with histograms"
      ]
    },
    {
      "cell_type": "code",
      "execution_count": null,
      "metadata": {
        "id": "nwkVGbID1mEY"
      },
      "outputs": [],
      "source": [
        "#Format the plot background and scatter plots for all the variables\n",
        "sns.set_style(style='darkgrid')\n",
        "sns.pairplot(cars)"
      ]
    },
    {
      "cell_type": "markdown",
      "metadata": {
        "id": "f7QUGw-O1mEY"
      },
      "source": [
        "# Preparing a model"
      ]
    },
    {
      "cell_type": "code",
      "execution_count": null,
      "metadata": {
        "id": "FgvMCwMA1mEZ"
      },
      "outputs": [],
      "source": [
        "#Build model\n",
        "import statsmodels.formula.api as smf\n",
        "model = smf.ols('MPG~WT+VOL+SP+HP',data=cars).fit()"
      ]
    },
    {
      "cell_type": "code",
      "source": [
        "model.summary()"
      ],
      "metadata": {
        "id": "-wgG13PW01-B"
      },
      "execution_count": null,
      "outputs": []
    },
    {
      "cell_type": "code",
      "execution_count": null,
      "metadata": {
        "id": "vGNvI0c51mEZ"
      },
      "outputs": [],
      "source": [
        "#Coefficients\n",
        "model.params"
      ]
    },
    {
      "cell_type": "code",
      "execution_count": null,
      "metadata": {
        "id": "3teUqRLI1mEZ"
      },
      "outputs": [],
      "source": [
        "#t and p-Values\n",
        "print(model.tvalues, '\\n', model.pvalues)"
      ]
    },
    {
      "cell_type": "code",
      "execution_count": null,
      "metadata": {
        "id": "qRx_pRpB1mEZ"
      },
      "outputs": [],
      "source": [
        "#R squared values\n",
        "(model.rsquared,model.rsquared_adj)"
      ]
    },
    {
      "cell_type": "markdown",
      "metadata": {
        "id": "Jger5r7u1mEZ"
      },
      "source": [
        "# Simple Linear Regression Models"
      ]
    },
    {
      "cell_type": "code",
      "execution_count": null,
      "metadata": {
        "id": "enTF6vro1mEZ"
      },
      "outputs": [],
      "source": [
        "ml_v=smf.ols('MPG~VOL',data = cars).fit()\n",
        "#t and p-Values\n",
        "print(ml_v.tvalues, '\\n', ml_v.pvalues)"
      ]
    },
    {
      "cell_type": "code",
      "execution_count": null,
      "metadata": {
        "id": "pYSXwytO1mEZ",
        "scrolled": false
      },
      "outputs": [],
      "source": [
        "ml_w=smf.ols('MPG~WT',data = cars).fit()\n",
        "print(ml_w.tvalues, '\\n', ml_w.pvalues)"
      ]
    },
    {
      "cell_type": "code",
      "execution_count": null,
      "metadata": {
        "id": "cnOEGu5o1mEa",
        "scrolled": true
      },
      "outputs": [],
      "source": [
        "ml_wv=smf.ols('MPG~WT+VOL',data = cars).fit()\n",
        "print(ml_wv.tvalues, '\\n', ml_wv.pvalues)"
      ]
    },
    {
      "cell_type": "markdown",
      "metadata": {
        "id": "Mv5MdN6d1mEa"
      },
      "source": [
        "# Calculating VIF"
      ]
    },
    {
      "cell_type": "code",
      "source": [
        "smf.ols(\"HP~WT+VOL+SP\",data=cars).fit().rsquared"
      ],
      "metadata": {
        "id": "fgqiQVEB7LL6"
      },
      "execution_count": null,
      "outputs": []
    },
    {
      "cell_type": "code",
      "execution_count": null,
      "metadata": {
        "id": "aB_HJLRE1mEa"
      },
      "outputs": [],
      "source": [
        "rsq_hp = smf.ols('HP~WT+VOL+SP',data=cars).fit().rsquared\n",
        "vif_hp = 1/(1-rsq_hp)\n",
        "\n",
        "rsq_wt = smf.ols('WT~HP+VOL+SP',data=cars).fit().rsquared\n",
        "vif_wt = 1/(1-rsq_wt)\n",
        "\n",
        "rsq_vol = smf.ols('VOL~WT+SP+HP',data=cars).fit().rsquared\n",
        "vif_vol = 1/(1-rsq_vol)\n",
        "\n",
        "rsq_sp = smf.ols('SP~WT+VOL+HP',data=cars).fit().rsquared\n",
        "vif_sp = 1/(1-rsq_sp)\n",
        "\n",
        "# Storing vif values in a data frame\n",
        "d1 = {'Variables':['Hp','WT','VOL','SP'],'VIF':[vif_hp,vif_wt,vif_vol,vif_sp]}\n",
        "Vif_frame = pd.DataFrame(d1)\n",
        "Vif_frame"
      ]
    },
    {
      "cell_type": "code",
      "source": [
        "model1=smf.ols('MPG~HP+SP+VOL',data=cars).fit()\n",
        "print(model1.rsquared,model1.rsquared_adj)\n",
        "model1.summary(())"
      ],
      "metadata": {
        "id": "udyftxfapJK4"
      },
      "execution_count": null,
      "outputs": []
    },
    {
      "cell_type": "code",
      "source": [
        "model2=smf.ols('MPG~HP+SP+WT',data=cars).fit()\n",
        "print(model2.rsquared,model2.rsquared_adj)\n",
        "model2.summary()"
      ],
      "metadata": {
        "id": "dBZVfBBEqBGL"
      },
      "execution_count": null,
      "outputs": []
    },
    {
      "cell_type": "code",
      "source": [
        "rsq_hp = smf.ols('HP~VOL+SP',data=cars).fit().rsquared\n",
        "vif_hp = 1/(1-rsq_hp)\n",
        "\n",
        "rsq_vol = smf.ols('VOL~SP+HP',data=cars).fit().rsquared\n",
        "vif_vol = 1/(1-rsq_vol)\n",
        "\n",
        "rsq_sp = smf.ols('SP~VOL+HP',data=cars).fit().rsquared\n",
        "vif_sp = 1/(1-rsq_sp)\n",
        "\n",
        "# Storing vif values in a data frame\n",
        "d1 = {'Variables':['Hp','VOL','SP'],'VIF':[vif_hp,vif_vol,vif_sp]}\n",
        "Vif_frame = pd.DataFrame(d1)\n",
        "Vif_frame"
      ],
      "metadata": {
        "id": "DUjs6fj-CXOh"
      },
      "execution_count": null,
      "outputs": []
    },
    {
      "cell_type": "markdown",
      "metadata": {
        "id": "7AG7My4E1mEa"
      },
      "source": [
        "# Residual Analysis"
      ]
    },
    {
      "cell_type": "markdown",
      "metadata": {
        "id": "a6zbfDZs1mEa"
      },
      "source": [
        "## Test for Normality of Residuals (Q-Q Plot)"
      ]
    },
    {
      "cell_type": "code",
      "source": [
        "model.resid"
      ],
      "metadata": {
        "id": "YHddhSTYtPT1"
      },
      "execution_count": null,
      "outputs": []
    },
    {
      "cell_type": "code",
      "execution_count": null,
      "metadata": {
        "id": "Wr_J7XVr1mEa"
      },
      "outputs": [],
      "source": [
        "import statsmodels.api as sm\n",
        "qqplot=sm.qqplot(model.resid,line='q') # line = 45 to draw the diagnoal line\n",
        "plt.title(\"Normal Q-Q plot of residuals\")\n",
        "plt.show()"
      ]
    },
    {
      "cell_type": "code",
      "execution_count": null,
      "metadata": {
        "id": "eqP77meF1mEa"
      },
      "outputs": [],
      "source": [
        "list(np.where(model.resid>10))   #lists out all indices with residual more than 10"
      ]
    },
    {
      "cell_type": "markdown",
      "metadata": {
        "id": "ruifO_bC1mEa"
      },
      "source": [
        "## Residual Plot for Homoscedasticity"
      ]
    },
    {
      "cell_type": "code",
      "execution_count": null,
      "metadata": {
        "id": "JLstH1TY1mEa"
      },
      "outputs": [],
      "source": [
        "def get_standardized_values( vals ):\n",
        "    return (vals - vals.mean())/vals.std()"
      ]
    },
    {
      "cell_type": "code",
      "source": [
        "cars['MPG'],model.fittedvalues,model.resid"
      ],
      "metadata": {
        "id": "6mhoOzVCjA2u"
      },
      "execution_count": null,
      "outputs": []
    },
    {
      "cell_type": "code",
      "execution_count": null,
      "metadata": {
        "id": "IRIq3KfP1mEa"
      },
      "outputs": [],
      "source": [
        "plt.scatter(get_standardized_values(model.fittedvalues),\n",
        "            get_standardized_values(model.resid))\n",
        "\n",
        "plt.title('Residual Plot')\n",
        "plt.xlabel('Standardized Fitted values')\n",
        "plt.ylabel('Standardized residual values')\n",
        "plt.show()"
      ]
    },
    {
      "cell_type": "markdown",
      "metadata": {
        "id": "EXKQ3itA1mEa"
      },
      "source": [
        "## Residual Vs Regressors"
      ]
    },
    {
      "cell_type": "code",
      "execution_count": null,
      "metadata": {
        "id": "jyik790N1mEa"
      },
      "outputs": [],
      "source": [
        "fig = plt.figure(figsize=(10,5))            #regression results against one regressor\n",
        "fig = sm.graphics.plot_regress_exog(model, \"VOL\", fig=fig)\n",
        "plt.show()"
      ]
    },
    {
      "cell_type": "code",
      "execution_count": null,
      "metadata": {
        "id": "eiCHrc_W1mEa"
      },
      "outputs": [],
      "source": [
        "fig = plt.figure(figsize=(10,5))\n",
        "fig = sm.graphics.plot_regress_exog(model, \"SP\", fig=fig)\n",
        "plt.show()"
      ]
    },
    {
      "cell_type": "code",
      "execution_count": null,
      "metadata": {
        "id": "-POdgtl51mEa"
      },
      "outputs": [],
      "source": [
        "fig = plt.figure(figsize=(10,5))\n",
        "fig = sm.graphics.plot_regress_exog(model, \"HP\", fig=fig)\n",
        "plt.show()"
      ]
    },
    {
      "cell_type": "code",
      "execution_count": null,
      "metadata": {
        "id": "OJrAQWJv1mEb"
      },
      "outputs": [],
      "source": [
        "fig = plt.figure(figsize=(10,5))\n",
        "fig = sm.graphics.plot_regress_exog(model, \"WT\", fig=fig)\n",
        "plt.show()"
      ]
    },
    {
      "cell_type": "markdown",
      "metadata": {
        "id": "0ZXtAn371mEb"
      },
      "source": [
        "# Model Deletion Diagnostics"
      ]
    },
    {
      "cell_type": "markdown",
      "metadata": {
        "id": "KLpeKzBp1mEb"
      },
      "source": [
        "## Detecting Influencers/Outliers"
      ]
    },
    {
      "cell_type": "code",
      "source": [
        "model.rsquared"
      ],
      "metadata": {
        "id": "pp31QYiKldah"
      },
      "execution_count": null,
      "outputs": []
    },
    {
      "cell_type": "markdown",
      "metadata": {
        "id": "ARK9mShq1mEb"
      },
      "source": [
        "## Cook’s Distance"
      ]
    },
    {
      "cell_type": "code",
      "execution_count": null,
      "metadata": {
        "id": "xKIp6KEJ1mEb"
      },
      "outputs": [],
      "source": [
        "model_influence = model.get_influence()\n",
        "(c, _) = model_influence.cooks_distance"
      ]
    },
    {
      "cell_type": "code",
      "source": [
        "len(c)"
      ],
      "metadata": {
        "id": "vPXdzWw8v7pb"
      },
      "execution_count": null,
      "outputs": []
    },
    {
      "cell_type": "code",
      "execution_count": null,
      "metadata": {
        "id": "hGp47vw51mEb"
      },
      "outputs": [],
      "source": [
        "#Plot the influencers values using stem plot\n",
        "fig = plt.subplots(figsize=(20, 7))\n",
        "plt.stem(np.arange(len(cars)), np.round(c, 3))\n",
        "plt.xlabel('Row index')\n",
        "plt.ylabel('Cooks Distance')\n",
        "plt.show()"
      ]
    },
    {
      "cell_type": "code",
      "execution_count": null,
      "metadata": {
        "id": "0IDeIEwF1mEb"
      },
      "outputs": [],
      "source": [
        "#index and value of influencer where c is more than .5\n",
        "(np.argmax(c),np.max(c))"
      ]
    },
    {
      "cell_type": "markdown",
      "metadata": {
        "id": "XvGzeb-c1mEb"
      },
      "source": [
        "## High Influence points"
      ]
    },
    {
      "cell_type": "code",
      "execution_count": null,
      "metadata": {
        "id": "jO3nEagV1mEb"
      },
      "outputs": [],
      "source": [
        "from statsmodels.graphics.regressionplots import influence_plot\n",
        "influence_plot(model)\n",
        "plt.show()"
      ]
    },
    {
      "cell_type": "code",
      "execution_count": null,
      "metadata": {
        "id": "A6bFu5C91mEf"
      },
      "outputs": [],
      "source": [
        "k = cars.shape[1]\n",
        "n = cars.shape[0]\n",
        "leverage_cutoff = 3*((k + 1)/n)\n",
        "print(leverage_cutoff)"
      ]
    },
    {
      "cell_type": "code",
      "source": [],
      "metadata": {
        "id": "hjxuy0aayzN4"
      },
      "execution_count": null,
      "outputs": []
    },
    {
      "cell_type": "markdown",
      "metadata": {
        "id": "RbOsRegE1mEf"
      },
      "source": [
        "#### From the above plot, it is evident that data point 70 and 76 are the influencers"
      ]
    },
    {
      "cell_type": "code",
      "execution_count": null,
      "metadata": {
        "id": "XjI4-H_s1mEf"
      },
      "outputs": [],
      "source": [
        "cars[cars.index.isin([70, 76])]\n"
      ]
    },
    {
      "cell_type": "code",
      "execution_count": null,
      "metadata": {
        "id": "I5-uzP1T1mEf"
      },
      "outputs": [],
      "source": [
        "#See the differences in HP and other variable values\n",
        "cars.head()"
      ]
    },
    {
      "cell_type": "markdown",
      "metadata": {
        "id": "iWfkJ2qY1mEf"
      },
      "source": [
        "# Improving the model"
      ]
    },
    {
      "cell_type": "code",
      "execution_count": null,
      "metadata": {
        "id": "UK_DCWmA1mEf"
      },
      "outputs": [],
      "source": [
        "#Load the data\n",
        "cars_new = pd.read_csv(\"Cars.csv\")"
      ]
    },
    {
      "cell_type": "code",
      "execution_count": null,
      "metadata": {
        "id": "oe0Gqqp41mEf"
      },
      "outputs": [],
      "source": [
        "#Discard the data points which are influencers and reasign the row number (reset_index())\n",
        "car1=cars_new.drop(cars_new.index[[70,76]],axis=0).reset_index(drop=True)\n",
        "#car1=cars_new.drop([70,76],axis=0).reset_index()\n",
        "car1"
      ]
    },
    {
      "cell_type": "code",
      "execution_count": null,
      "metadata": {
        "id": "mj-0EIPU1mEf"
      },
      "outputs": [],
      "source": [
        "#Drop the original index\n",
        "#car1=car1.drop(['index'],axis=1)"
      ]
    },
    {
      "cell_type": "code",
      "execution_count": null,
      "metadata": {
        "id": "YdAV3uQI1mEf"
      },
      "outputs": [],
      "source": [
        "car1"
      ]
    },
    {
      "cell_type": "markdown",
      "metadata": {
        "id": "TbkcCPBn1mEf"
      },
      "source": [
        "# Build Model"
      ]
    },
    {
      "cell_type": "code",
      "execution_count": null,
      "metadata": {
        "id": "uftN7L2V1mEf"
      },
      "outputs": [],
      "source": [
        "#Exclude variable \"WT\" and generate R-Squared and AIC values\n",
        "final_ml_V= smf.ols('MPG~VOL+SP+HP',data = car1).fit()"
      ]
    },
    {
      "cell_type": "code",
      "execution_count": null,
      "metadata": {
        "id": "ZpOCrxQL1mEf"
      },
      "outputs": [],
      "source": [
        "(final_ml_V.rsquared,final_ml_V.aic)"
      ]
    },
    {
      "cell_type": "code",
      "execution_count": null,
      "metadata": {
        "id": "WOxkgtT71mEf"
      },
      "outputs": [],
      "source": [
        "\n",
        "#Exclude variable \"VOL\" and generate R-Squared and AIC values\n",
        "final_ml_W= smf.ols('MPG~WT+SP+HP',data = car1).fit()"
      ]
    },
    {
      "cell_type": "code",
      "execution_count": null,
      "metadata": {
        "id": "VS3VaM7e1mEf"
      },
      "outputs": [],
      "source": [
        "(final_ml_W.rsquared,final_ml_W.aic)"
      ]
    },
    {
      "cell_type": "markdown",
      "metadata": {
        "id": "kgh-MEAk1mEg"
      },
      "source": [
        "##### Comparing above R-Square and AIC values, model 'final_ml_V' has high R- square and low AIC value hence include variable 'VOL' so that multi collinearity problem would be resolved."
      ]
    },
    {
      "cell_type": "markdown",
      "metadata": {
        "id": "hu9K1hyy1mEg"
      },
      "source": [
        "# Cook’s Distance"
      ]
    },
    {
      "cell_type": "code",
      "execution_count": null,
      "metadata": {
        "id": "_UaWvxvn1mEg"
      },
      "outputs": [],
      "source": [
        "model_influence_V = final_ml_V.get_influence()\n",
        "(c_V, _) = model_influence_V.cooks_distance"
      ]
    },
    {
      "cell_type": "code",
      "execution_count": null,
      "metadata": {
        "id": "p4GTRvYJ1mEg"
      },
      "outputs": [],
      "source": [
        "fig= plt.subplots(figsize=(20,7))\n",
        "plt.stem(np.arange(len(car1)),np.round(c_V,3));\n",
        "plt.xlabel('Row index')\n",
        "plt.ylabel('Cooks Distance');"
      ]
    },
    {
      "cell_type": "code",
      "execution_count": null,
      "metadata": {
        "id": "MdzYVYqk1mEg"
      },
      "outputs": [],
      "source": [
        "#index of the data points where c is more than .5\n",
        "(np.argmax(c_V),np.max(c_V))"
      ]
    },
    {
      "cell_type": "code",
      "source": [
        "k = car1.shape[1]-1\n",
        "n = car1.shape[0]\n",
        "leverage_cutoff = 3*((k + 1)/n)\n",
        "print(leverage_cutoff)"
      ],
      "metadata": {
        "id": "o6tOEzoM6EYj"
      },
      "execution_count": null,
      "outputs": []
    },
    {
      "cell_type": "code",
      "source": [
        "from statsmodels.graphics.regressionplots import influence_plot\n",
        "influence_plot(final_ml_V)\n",
        "plt.show()"
      ],
      "metadata": {
        "id": "VEqWds5j6PeM"
      },
      "execution_count": null,
      "outputs": []
    },
    {
      "cell_type": "code",
      "execution_count": null,
      "metadata": {
        "id": "GW6GLFQ41mEg"
      },
      "outputs": [],
      "source": [
        "\n",
        "#Drop 76 and 77 observations\n",
        "car2=car1.drop(car1.index[[76,77]],axis=0)"
      ]
    },
    {
      "cell_type": "code",
      "execution_count": null,
      "metadata": {
        "id": "k3se8pHU1mEg"
      },
      "outputs": [],
      "source": [
        "car2"
      ]
    },
    {
      "cell_type": "code",
      "execution_count": null,
      "metadata": {
        "id": "vdUjW04m1mEg"
      },
      "outputs": [],
      "source": [
        "#Reset the index and re arrange the row values\n",
        "car3=car2.reset_index(drop=True)"
      ]
    },
    {
      "cell_type": "code",
      "execution_count": null,
      "metadata": {
        "id": "Lk2rzDF41mEg"
      },
      "outputs": [],
      "source": [
        "\n",
        "\n",
        "#car4=car3.drop(['index'],axis=1)"
      ]
    },
    {
      "cell_type": "code",
      "execution_count": null,
      "metadata": {
        "id": "CZIF6hLa1mEg"
      },
      "outputs": [],
      "source": [
        "car3"
      ]
    },
    {
      "cell_type": "code",
      "execution_count": null,
      "metadata": {
        "id": "DKeip0JH1mEg"
      },
      "outputs": [],
      "source": [
        "#Build the model on the new data\n",
        "final_ml_V= smf.ols('MPG~VOL+SP+HP',data = car3).fit()"
      ]
    },
    {
      "cell_type": "code",
      "source": [
        "final_ml_V.rsquared,final_ml_V.aic"
      ],
      "metadata": {
        "id": "bgbkyS5-3CEq"
      },
      "execution_count": null,
      "outputs": []
    },
    {
      "cell_type": "code",
      "execution_count": null,
      "metadata": {
        "id": "KF0A7p2T1mEg"
      },
      "outputs": [],
      "source": [
        "#Again check for influencers\n",
        "model_influence_V = final_ml_V.get_influence()\n",
        "(c_V, _) = model_influence_V.cooks_distance"
      ]
    },
    {
      "cell_type": "code",
      "execution_count": null,
      "metadata": {
        "id": "bhHtWcmf1mEg"
      },
      "outputs": [],
      "source": [
        "fig= plt.subplots(figsize=(20,7))\n",
        "plt.stem(np.arange(len(car3)),np.round(c_V,3));\n",
        "plt.xlabel('Row index')\n",
        "plt.ylabel('Cooks Distance');"
      ]
    },
    {
      "cell_type": "code",
      "execution_count": null,
      "metadata": {
        "id": "006zDtUM1mEg"
      },
      "outputs": [],
      "source": [
        "#index of the data points where c is more than .5\n",
        "(np.argmax(c_V),np.max(c_V))"
      ]
    },
    {
      "cell_type": "code",
      "source": [],
      "metadata": {
        "id": "_M8dpexU3W6r"
      },
      "execution_count": null,
      "outputs": []
    },
    {
      "cell_type": "markdown",
      "metadata": {
        "id": "QLsFfirb1mEh"
      },
      "source": [
        "\n",
        "\n",
        "\n",
        "\n",
        "\n",
        "\n",
        "\n",
        "#### Since the value is <1 , we can stop the diagnostic process and finalize the model"
      ]
    },
    {
      "cell_type": "code",
      "execution_count": null,
      "metadata": {
        "id": "7qJ8tyqy1mEh"
      },
      "outputs": [],
      "source": [
        "#Check the accuracy of the mode\n",
        "final_ml_V= smf.ols('MPG~VOL+SP+HP',data = car3).fit()"
      ]
    },
    {
      "cell_type": "code",
      "execution_count": null,
      "metadata": {
        "id": "NV8XzlOS1mEh"
      },
      "outputs": [],
      "source": [
        "(final_ml_V.rsquared,final_ml_V.aic)"
      ]
    },
    {
      "cell_type": "markdown",
      "source": [],
      "metadata": {
        "id": "Ka2ZVLk8J3dL"
      }
    },
    {
      "cell_type": "markdown",
      "metadata": {
        "id": "MgAntrQ81mEh"
      },
      "source": [
        "## Predicting for new data"
      ]
    },
    {
      "cell_type": "code",
      "execution_count": null,
      "metadata": {
        "id": "tE0ZbN031mEh"
      },
      "outputs": [],
      "source": [
        "#New data for prediction\n",
        "new_data=pd.DataFrame({'HP':40,\"VOL\":95,\"SP\":102,\"WT\":35},index=[1])"
      ]
    },
    {
      "cell_type": "code",
      "source": [
        "new_data"
      ],
      "metadata": {
        "id": "njcRy0KloUel"
      },
      "execution_count": null,
      "outputs": []
    },
    {
      "cell_type": "code",
      "execution_count": null,
      "metadata": {
        "id": "OfcxP2y71mEh"
      },
      "outputs": [],
      "source": [
        "final_ml_V.predict(new_data)"
      ]
    },
    {
      "cell_type": "code",
      "execution_count": null,
      "metadata": {
        "id": "ChwqZvN01mEh"
      },
      "outputs": [],
      "source": [
        "final_ml_V.predict(cars_new.iloc[0:5,])"
      ]
    },
    {
      "cell_type": "code",
      "source": [
        "cars_new.MPG.head()"
      ],
      "metadata": {
        "id": "MwoZalYxqCII"
      },
      "execution_count": null,
      "outputs": []
    },
    {
      "cell_type": "code",
      "execution_count": null,
      "metadata": {
        "id": "6K_6P0me1mEh"
      },
      "outputs": [],
      "source": [
        "pred_y = final_ml_V.predict(cars_new)"
      ]
    },
    {
      "cell_type": "code",
      "execution_count": null,
      "metadata": {
        "id": "V6CX1Ls11mEh"
      },
      "outputs": [],
      "source": [
        "pred_y"
      ]
    },
    {
      "cell_type": "code",
      "execution_count": null,
      "metadata": {
        "id": "rSbXTov44PCI"
      },
      "outputs": [],
      "source": [
        "cars_new.MPG"
      ]
    },
    {
      "cell_type": "code",
      "execution_count": null,
      "metadata": {
        "id": "-ORLLewf2Gdn"
      },
      "outputs": [],
      "source": []
    },
    {
      "cell_type": "code",
      "source": [],
      "metadata": {
        "id": "N6sCIFyHMnTz"
      },
      "execution_count": null,
      "outputs": []
    },
    {
      "cell_type": "markdown",
      "source": [
        "# **Using Sklearn linear regression**"
      ],
      "metadata": {
        "id": "vfTcELb9MosL"
      }
    },
    {
      "cell_type": "code",
      "source": [
        "import pandas as pd\n",
        "df=pd.read_csv(\"Cars.csv\")"
      ],
      "metadata": {
        "id": "3jGJLzqaMnWh"
      },
      "execution_count": null,
      "outputs": []
    },
    {
      "cell_type": "code",
      "source": [
        "df.head()"
      ],
      "metadata": {
        "id": "xfZF8fPBNEkp"
      },
      "execution_count": null,
      "outputs": []
    },
    {
      "cell_type": "code",
      "source": [
        "X=df.drop(columns=['MPG'])\n",
        "Y=df.MPG"
      ],
      "metadata": {
        "id": "zRIjHHlgNHEk"
      },
      "execution_count": null,
      "outputs": []
    },
    {
      "cell_type": "code",
      "source": [
        "from sklearn.linear_model import LinearRegression\n"
      ],
      "metadata": {
        "id": "uIqX_lyONVfR"
      },
      "execution_count": null,
      "outputs": []
    },
    {
      "cell_type": "code",
      "source": [
        "reg=LinearRegression()\n",
        "reg.fit(X,Y)"
      ],
      "metadata": {
        "id": "XQA81yG4Ne2m"
      },
      "execution_count": null,
      "outputs": []
    },
    {
      "cell_type": "code",
      "source": [
        "Y_pred=reg.predict(X)"
      ],
      "metadata": {
        "id": "TuDA3z0lNlrK"
      },
      "execution_count": null,
      "outputs": []
    },
    {
      "cell_type": "code",
      "source": [
        "data=pd.DataFrame({'Actual':Y,\n",
        "                   'Predicted':Y_pred})\n",
        "data.head()"
      ],
      "metadata": {
        "id": "U1_qY1y4NqoT"
      },
      "execution_count": null,
      "outputs": []
    },
    {
      "cell_type": "code",
      "source": [
        "reg.score(X,Y)"
      ],
      "metadata": {
        "id": "hEfPgGVZ14i8"
      },
      "execution_count": null,
      "outputs": []
    },
    {
      "cell_type": "code",
      "source": [
        "from sklearn.metrics import r2_score\n",
        "r2_score(Y,Y_pred)"
      ],
      "metadata": {
        "id": "T34l7p_eOEX8"
      },
      "execution_count": null,
      "outputs": []
    },
    {
      "cell_type": "code",
      "source": [
        "import sklearn\n",
        "help(sklearn.metrics)"
      ],
      "metadata": {
        "id": "7tusXmgsOOob"
      },
      "execution_count": null,
      "outputs": []
    },
    {
      "cell_type": "code",
      "source": [],
      "metadata": {
        "id": "GJ3z0o49O2pz"
      },
      "execution_count": null,
      "outputs": []
    }
  ],
  "metadata": {
    "colab": {
      "provenance": []
    },
    "kernelspec": {
      "display_name": "Python 3",
      "language": "python",
      "name": "python3"
    },
    "language_info": {
      "codemirror_mode": {
        "name": "ipython",
        "version": 3
      },
      "file_extension": ".py",
      "mimetype": "text/x-python",
      "name": "python",
      "nbconvert_exporter": "python",
      "pygments_lexer": "ipython3",
      "version": "3.7.4"
    }
  },
  "nbformat": 4,
  "nbformat_minor": 0
}
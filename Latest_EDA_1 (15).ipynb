{
  "cells": [
    {
      "cell_type": "markdown",
      "metadata": {
        "id": "txCIAUInHiJa"
      },
      "source": [
        "# Exploratory Data Analysis"
      ]
    },
    {
      "cell_type": "code",
      "execution_count": null,
      "metadata": {
        "id": "wo3F3kLrHiJf"
      },
      "outputs": [],
      "source": [
        "#load the libraries\n",
        "import pandas as pd\n",
        "import numpy as np\n",
        "import matplotlib.pyplot as plt"
      ]
    },
    {
      "cell_type": "code",
      "execution_count": null,
      "metadata": {
        "id": "tN9-2GL_HiJf"
      },
      "outputs": [],
      "source": [
        "#from google.colab import files\n",
        "#uploaded = files.upload()"
      ]
    },
    {
      "cell_type": "code",
      "execution_count": null,
      "metadata": {
        "id": "XvbDEftATXwa"
      },
      "outputs": [],
      "source": [
        "data = pd.read_csv(\"data_clean.csv\")\n",
        "data.head()"
      ]
    },
    {
      "cell_type": "code",
      "execution_count": null,
      "metadata": {
        "id": "8PmxS-D9rllb"
      },
      "outputs": [],
      "source": [
        "data.info()"
      ]
    },
    {
      "cell_type": "code",
      "execution_count": null,
      "metadata": {
        "id": "T9XNoLH7HiJg"
      },
      "outputs": [],
      "source": [
        "data.tail(10)"
      ]
    },
    {
      "cell_type": "code",
      "execution_count": null,
      "metadata": {
        "id": "bSbR2cRtHiJk"
      },
      "outputs": [],
      "source": [
        "#Data Structure\n",
        "print(type(data))\n",
        "print(data.shape)"
      ]
    },
    {
      "cell_type": "code",
      "execution_count": null,
      "metadata": {
        "id": "YFLaC1mY-mP5"
      },
      "outputs": [],
      "source": [
        "data.shape[1]"
      ]
    },
    {
      "cell_type": "code",
      "execution_count": null,
      "metadata": {
        "id": "Sm69MrZNHiJl"
      },
      "outputs": [],
      "source": [
        "#data types\n",
        "data.dtypes"
      ]
    },
    {
      "cell_type": "code",
      "execution_count": null,
      "metadata": {
        "id": "xJA33dln7Lkn"
      },
      "outputs": [],
      "source": [
        "data.describe()"
      ]
    },
    {
      "cell_type": "code",
      "execution_count": null,
      "metadata": {
        "id": "KqE6Lyva7NXZ"
      },
      "outputs": [],
      "source": [
        "data['Temp C'].unique()"
      ]
    },
    {
      "cell_type": "markdown",
      "metadata": {
        "id": "tN31i1h2HiJn"
      },
      "source": [
        "# Data type conversion"
      ]
    },
    {
      "cell_type": "code",
      "execution_count": null,
      "metadata": {
        "id": "qrIOvpmOHiJp"
      },
      "outputs": [],
      "source": [
        "data.info()"
      ]
    },
    {
      "cell_type": "code",
      "execution_count": null,
      "metadata": {
        "id": "ZZmvR9oL7Oek"
      },
      "outputs": [],
      "source": [
        "data['Month'].unique()"
      ]
    },
    {
      "cell_type": "code",
      "execution_count": null,
      "metadata": {
        "id": "JGs0fEOiHiJv"
      },
      "outputs": [],
      "source": [
        "data['Month']=pd.to_numeric(data['Month'],errors='coerce') #[1,1.5,NAN] january NA\n",
        "\n",
        "data['Temp C']=pd.to_numeric(data['Temp C'],errors='coerce')# coerce will introduce NA values for non numeric data in the columns\n",
        "\n",
        "data['Weather']=data['Weather'].astype('category')           #data['Wind']=data['Wind'].astype('int64')"
      ]
    },
    {
      "cell_type": "code",
      "execution_count": null,
      "metadata": {
        "id": "3Wh-Lj1GHiJ0"
      },
      "outputs": [],
      "source": [
        "data.dtypes"
      ]
    },
    {
      "cell_type": "code",
      "source": [],
      "metadata": {
        "id": "ArlMDamJaqvx"
      },
      "execution_count": null,
      "outputs": []
    },
    {
      "cell_type": "code",
      "execution_count": null,
      "metadata": {
        "id": "4EIt2jyW7a9K"
      },
      "outputs": [],
      "source": [
        "data['Unnamed: 0'].nunique()"
      ]
    },
    {
      "cell_type": "markdown",
      "metadata": {
        "id": "8968iyvu6iJY"
      },
      "source": [
        "####More on data type conversions\n",
        "[link text](https://stackoverflow.com/questions/15891038/change-column-type-in-pandas)"
      ]
    },
    {
      "cell_type": "code",
      "execution_count": null,
      "metadata": {
        "id": "6TcTBIhxDVox"
      },
      "outputs": [],
      "source": [
        "data1=data.drop(['Unnamed: 0','Year','Temp C'], axis = 1)\n",
        "data1"
      ]
    },
    {
      "cell_type": "code",
      "execution_count": null,
      "metadata": {
        "id": "qBjOmnRhiILH"
      },
      "outputs": [],
      "source": [
        "data1.duplicated()"
      ]
    },
    {
      "cell_type": "code",
      "execution_count": null,
      "metadata": {
        "id": "3onxfmVgDtgh"
      },
      "outputs": [],
      "source": [
        "#Print the duplicated rows\n",
        "data1[data1.duplicated(keep=False)]"
      ]
    },
    {
      "cell_type": "code",
      "execution_count": null,
      "metadata": {
        "id": "Nq_yT_44ELCu"
      },
      "outputs": [],
      "source": [
        "\n",
        "data_cleaned1=data1.drop_duplicates()"
      ]
    },
    {
      "cell_type": "code",
      "execution_count": null,
      "metadata": {
        "id": "50ZMLIOoiILI"
      },
      "outputs": [],
      "source": [
        "help(data1.duplicated)"
      ]
    },
    {
      "cell_type": "code",
      "execution_count": null,
      "metadata": {
        "id": "hdcLMZdYiILI"
      },
      "outputs": [],
      "source": [
        "data_cleaned1.info()"
      ]
    },
    {
      "cell_type": "code",
      "execution_count": null,
      "metadata": {
        "id": "C5PeajmcEc0b"
      },
      "outputs": [],
      "source": [
        "data_cleaned1[data_cleaned1.duplicated()]"
      ]
    },
    {
      "cell_type": "markdown",
      "metadata": {
        "id": "NFJqe1_hHiJ0"
      },
      "source": [
        "# Duplicates"
      ]
    },
    {
      "cell_type": "code",
      "execution_count": null,
      "metadata": {
        "id": "zoCZF5vmG4nL"
      },
      "outputs": [],
      "source": [
        "data[data.duplicated()]"
      ]
    },
    {
      "cell_type": "code",
      "execution_count": null,
      "metadata": {
        "id": "_KpAyz_YHiJ1"
      },
      "outputs": [],
      "source": [
        "#Count of duplicated rows\n",
        "data[data.duplicated()].shape[0]"
      ]
    },
    {
      "cell_type": "code",
      "source": [
        "data.columns[data.columns.duplicated()]   #to check duplicated columns"
      ],
      "metadata": {
        "id": "vGKTmv258eEN"
      },
      "execution_count": null,
      "outputs": []
    },
    {
      "cell_type": "code",
      "execution_count": null,
      "metadata": {
        "id": "p3io6gqtHiJ2"
      },
      "outputs": [],
      "source": [
        "data_cleaned1=data.drop_duplicates()\n",
        "#data.drop_duplicates(inplace=True)|"
      ]
    },
    {
      "cell_type": "code",
      "execution_count": null,
      "metadata": {
        "id": "_lqUKsaaHiJ3"
      },
      "outputs": [],
      "source": [
        "data_cleaned1.tail()\n",
        "\n",
        "data_cleaned1.reset_index(inplace=True)"
      ]
    },
    {
      "cell_type": "code",
      "execution_count": null,
      "metadata": {
        "id": "SFqn6IKniILI"
      },
      "outputs": [],
      "source": [
        "data_cleaned1"
      ]
    },
    {
      "cell_type": "markdown",
      "metadata": {
        "id": "zWe46hEUHiJ3"
      },
      "source": [
        "# Drop columns"
      ]
    },
    {
      "cell_type": "code",
      "execution_count": null,
      "metadata": {
        "id": "P1Dgh5voHiJ7"
      },
      "outputs": [],
      "source": [
        "data_cleaned1.drop(['Unnamed: 0','index','Temp C','Year'],axis=1,inplace=True)"
      ]
    },
    {
      "cell_type": "code",
      "source": [],
      "metadata": {
        "id": "TpmHkut9f-Xz"
      },
      "execution_count": null,
      "outputs": []
    },
    {
      "cell_type": "code",
      "execution_count": null,
      "metadata": {
        "id": "EjmybS0dTdz-"
      },
      "outputs": [],
      "source": [
        "data_cleaned1"
      ]
    },
    {
      "cell_type": "code",
      "execution_count": null,
      "metadata": {
        "id": "cZP-6QnAiILJ"
      },
      "outputs": [],
      "source": [
        "data_cleaned1"
      ]
    },
    {
      "cell_type": "markdown",
      "metadata": {
        "id": "mu6o68KgHiKA"
      },
      "source": [
        "# Rename the columns"
      ]
    },
    {
      "cell_type": "code",
      "execution_count": null,
      "metadata": {
        "id": "Kbuo1bNJHiKC"
      },
      "outputs": [],
      "source": [
        "#rename the Solar column\n",
        "#data_cleaned3 = data_cleaned2.rename({'Solar.R': 'Solar','Temp':'Temperature'}, axis=1)\n",
        "data_cleaned1.rename({'Solar.R': 'Solar','Temp':'Temperature'}, axis=1,inplace=True)"
      ]
    },
    {
      "cell_type": "code",
      "execution_count": null,
      "metadata": {
        "id": "PtYfA49PHiKD"
      },
      "outputs": [],
      "source": [
        "data_cleaned1"
      ]
    },
    {
      "cell_type": "code",
      "source": [
        "data_cleaned1.describe()"
      ],
      "metadata": {
        "id": "iWm7uLPBnx1_"
      },
      "execution_count": null,
      "outputs": []
    },
    {
      "cell_type": "code",
      "source": [
        "data_cleaned1.Ozone.plot(kind='box')"
      ],
      "metadata": {
        "id": "QwognIJj-MRK"
      },
      "execution_count": null,
      "outputs": []
    },
    {
      "cell_type": "markdown",
      "metadata": {
        "id": "XPKlmxFQHiKF"
      },
      "source": [
        "# Missing Values and Imputation"
      ]
    },
    {
      "cell_type": "code",
      "execution_count": null,
      "metadata": {
        "id": "WNR9cpGEiILN"
      },
      "outputs": [],
      "source": [
        "data_cleaned1.isnull().sum() ####to find num of null values in each column"
      ]
    },
    {
      "cell_type": "code",
      "execution_count": null,
      "metadata": {
        "id": "99rHjRk3iILN"
      },
      "outputs": [],
      "source": [
        "import seaborn as sns\n",
        "sns.color_palette('Set3') #viridis,winter"
      ]
    },
    {
      "cell_type": "code",
      "source": [
        "sns.set_palette('Set2')"
      ],
      "metadata": {
        "id": "o40SU32pAFS1"
      },
      "execution_count": null,
      "outputs": []
    },
    {
      "cell_type": "code",
      "source": [
        "data_cleaned1.isnull()"
      ],
      "metadata": {
        "id": "_1gZV7y-hG-h"
      },
      "execution_count": null,
      "outputs": []
    },
    {
      "cell_type": "code",
      "execution_count": null,
      "metadata": {
        "id": "cEemcw5mHiKF"
      },
      "outputs": [],
      "source": [
        "import seaborn as sns\n",
        "cols = data_cleaned1.columns\n",
        "colours = ['red', 'yellow']#specify the colours - yellow is missing. blue is not missing.\n",
        "sns.heatmap(data_cleaned1[cols].isnull(),\n",
        "            cmap=colours)"
      ]
    },
    {
      "cell_type": "markdown",
      "metadata": {
        "id": "PukalTXyyAJe"
      },
      "source": [
        "data_of_nulls = data_cleaned3[cols].isnull()\n",
        "column_names = list(data_of_nulls.columns)\n",
        "\n",
        "\n",
        "for i in column_names:\n",
        "    if True in list(data_of_nulls[i]):\n",
        "        print(i)"
      ]
    },
    {
      "cell_type": "code",
      "execution_count": null,
      "metadata": {
        "id": "_vgPzF5EiILN"
      },
      "outputs": [],
      "source": []
    },
    {
      "cell_type": "code",
      "execution_count": null,
      "metadata": {
        "id": "uH2gfKwuiILO"
      },
      "outputs": [],
      "source": [
        "data_cleaned1.isnull().sum()"
      ]
    },
    {
      "cell_type": "code",
      "execution_count": null,
      "metadata": {
        "id": "bDn1O9PNHiKF"
      },
      "outputs": [],
      "source": [
        "len(data_cleaned1[data_cleaned1.isnull().any(axis=1)])"
      ]
    },
    {
      "cell_type": "code",
      "source": [
        "data_cleaned1.shape"
      ],
      "metadata": {
        "id": "IdB5l_qrXyL7"
      },
      "execution_count": null,
      "outputs": []
    },
    {
      "cell_type": "code",
      "execution_count": null,
      "metadata": {
        "id": "ZwqroZieiILO"
      },
      "outputs": [],
      "source": [
        "data_cleaned2=data_cleaned1.dropna()"
      ]
    },
    {
      "cell_type": "code",
      "execution_count": null,
      "metadata": {
        "id": "xiGCscvMBE8K"
      },
      "outputs": [],
      "source": [
        "data_cleaned2.shape"
      ]
    },
    {
      "cell_type": "code",
      "execution_count": null,
      "metadata": {
        "id": "gECZq_Y02Jgw"
      },
      "outputs": [],
      "source": [
        "data_cleaned2.isnull().sum()"
      ]
    },
    {
      "cell_type": "code",
      "execution_count": null,
      "metadata": {
        "id": "FrqpJNMAiILO"
      },
      "outputs": [],
      "source": [
        "data_cleaned1.Ozone.plot(kind='box')"
      ]
    },
    {
      "cell_type": "code",
      "execution_count": null,
      "metadata": {
        "id": "SxG615ZLY62e"
      },
      "outputs": [],
      "source": [
        "data_cleaned1.Solar.plot(kind='box')"
      ]
    },
    {
      "cell_type": "code",
      "execution_count": null,
      "metadata": {
        "id": "DMKkL1DZiILO"
      },
      "outputs": [],
      "source": [
        "#rename the Solar column\n",
        "#data_cleaned4 = data_cleaned1.rename({'Solar.R': 'Solar'}, axis=1)"
      ]
    },
    {
      "cell_type": "code",
      "execution_count": null,
      "metadata": {
        "id": "Aa1qXNq-iILO"
      },
      "outputs": [],
      "source": [
        "#data_cleaned4.info()"
      ]
    },
    {
      "cell_type": "code",
      "execution_count": null,
      "metadata": {
        "id": "NXyMcZTqiILO"
      },
      "outputs": [],
      "source": [
        "#imputing the null values\n",
        "\n",
        "# replacing the null values with median of the column\n",
        "\n",
        "oz_med=data_cleaned1.Ozone.median()\n",
        "\n",
        "data_cleaned1['Ozone']=data_cleaned1['Ozone'].fillna(oz_med)\n"
      ]
    },
    {
      "cell_type": "code",
      "execution_count": null,
      "metadata": {
        "id": "V53-n4YE3BaN"
      },
      "outputs": [],
      "source": [
        "data_cleaned1.Ozone.median()\n"
      ]
    },
    {
      "cell_type": "code",
      "execution_count": null,
      "metadata": {
        "id": "fiKzOfBviILO"
      },
      "outputs": [],
      "source": [
        "data_cleaned1.info()"
      ]
    },
    {
      "cell_type": "code",
      "execution_count": null,
      "metadata": {
        "id": "qFixXN41iILO"
      },
      "outputs": [],
      "source": []
    },
    {
      "cell_type": "code",
      "execution_count": null,
      "metadata": {
        "id": "OIomHf3NiILO"
      },
      "outputs": [],
      "source": [
        "data_cleaned1.Solar.plot(kind='box')"
      ]
    },
    {
      "cell_type": "code",
      "execution_count": null,
      "metadata": {
        "id": "Q3Nh751PHiKG"
      },
      "outputs": [],
      "source": [
        "#Mean Imputationa\n",
        "mean = data_cleaned1['Solar'].mean()\n",
        "print(mean)\n",
        "\n",
        "data_cleaned1['Solar']=data_cleaned1['Solar'].fillna(mean)"
      ]
    },
    {
      "cell_type": "code",
      "execution_count": null,
      "metadata": {
        "id": "A6bDzB6jHiKG"
      },
      "outputs": [],
      "source": [
        "data_cleaned1.info()"
      ]
    },
    {
      "cell_type": "code",
      "execution_count": null,
      "metadata": {
        "id": "jRH2M0_lHiKG"
      },
      "outputs": [],
      "source": [
        "data_cleaned1.isnull().sum()\n"
      ]
    },
    {
      "cell_type": "code",
      "execution_count": null,
      "metadata": {
        "id": "chN07kA9vMR4"
      },
      "outputs": [],
      "source": [
        "data_cleaned1.Month.value_counts().plot(kind='bar')"
      ]
    },
    {
      "cell_type": "code",
      "execution_count": null,
      "metadata": {
        "id": "viJptJxJu-Mr"
      },
      "outputs": [],
      "source": [
        "data_cleaned1.Weather.value_counts().plot(kind='bar')"
      ]
    },
    {
      "cell_type": "code",
      "execution_count": null,
      "metadata": {
        "id": "HG2pjxOH8osY"
      },
      "outputs": [],
      "source": [
        "data_cleaned1.Weather.mode()[0]"
      ]
    },
    {
      "cell_type": "code",
      "execution_count": null,
      "metadata": {
        "id": "WJjhhc061Eda"
      },
      "outputs": [],
      "source": [
        "mode_weather=data_cleaned1.Weather.mode()[0]\n",
        "mode_weather"
      ]
    },
    {
      "cell_type": "code",
      "execution_count": null,
      "metadata": {
        "id": "xgzM_oCp1dwc"
      },
      "outputs": [],
      "source": [
        "data_cleaned1['Weather']=data_cleaned1.Weather.fillna(mode_weather)"
      ]
    },
    {
      "cell_type": "code",
      "source": [
        "data_cleaned1.Weather.unique()"
      ],
      "metadata": {
        "id": "QkdddstOeXgB"
      },
      "execution_count": null,
      "outputs": []
    },
    {
      "cell_type": "code",
      "execution_count": null,
      "metadata": {
        "id": "Tuz6R5Pa19od"
      },
      "outputs": [],
      "source": [
        "data_cleaned1.isnull().sum()"
      ]
    },
    {
      "cell_type": "code",
      "execution_count": null,
      "metadata": {
        "id": "TiyOBI63BbJ3"
      },
      "outputs": [],
      "source": [
        "data_cleaned1.dropna(inplace=True)"
      ]
    },
    {
      "cell_type": "code",
      "execution_count": null,
      "metadata": {
        "id": "vbUaiPBziILQ"
      },
      "outputs": [],
      "source": [
        "#help(data.dropna)"
      ]
    },
    {
      "cell_type": "code",
      "source": [
        "data_2=data_cleaned1.copy()  #for alt. outlier treatment"
      ],
      "metadata": {
        "id": "repuHc2al7yH"
      },
      "execution_count": null,
      "outputs": []
    },
    {
      "cell_type": "code",
      "execution_count": null,
      "metadata": {
        "id": "gmLCMlSSHiKE"
      },
      "outputs": [],
      "source": [
        "data_cleaned1.isnull().sum()"
      ]
    },
    {
      "cell_type": "markdown",
      "metadata": {
        "id": "wSdskG8jHiKD"
      },
      "source": [
        "# Outlier Detection"
      ]
    },
    {
      "cell_type": "code",
      "execution_count": null,
      "metadata": {
        "id": "H-zZbK1rHiKD"
      },
      "outputs": [],
      "source": [
        "# histogram of Ozone\n",
        "data_cleaned1['Ozone'].hist()"
      ]
    },
    {
      "cell_type": "code",
      "execution_count": null,
      "metadata": {
        "id": "-PA7fY2zHiKE"
      },
      "outputs": [],
      "source": [
        "\n",
        "plt.boxplot(data_cleaned1['Ozone'])"
      ]
    },
    {
      "cell_type": "code",
      "source": [
        "data_cleaned1.Ozone.describe()"
      ],
      "metadata": {
        "id": "s45Qf415D26C"
      },
      "execution_count": null,
      "outputs": []
    },
    {
      "cell_type": "code",
      "execution_count": null,
      "metadata": {
        "id": "ZjBOJivbbn3Q"
      },
      "outputs": [],
      "source": [
        "#dir(data_box)"
      ]
    },
    {
      "cell_type": "code",
      "execution_count": null,
      "metadata": {
        "id": "RIEFldCRtc2q"
      },
      "outputs": [],
      "source": [
        "#Extracting outliers\n",
        "box=plt.boxplot(data_cleaned1['Ozone'])"
      ]
    },
    {
      "cell_type": "code",
      "execution_count": null,
      "metadata": {
        "id": "hBVEfhhC-aFP"
      },
      "outputs": [],
      "source": [
        "for i,j in box.items():\n",
        "  print(i,j)"
      ]
    },
    {
      "cell_type": "code",
      "execution_count": null,
      "metadata": {
        "id": "tQ-1_aBWlBEB"
      },
      "outputs": [],
      "source": [
        "out=[]\n",
        "for item in box[\"fliers\"]:\n",
        "    out.append(item.get_ydata())\n",
        "\n",
        "out\n"
      ]
    },
    {
      "cell_type": "code",
      "execution_count": null,
      "metadata": {
        "id": "5E3NZ5k8tjQb"
      },
      "outputs": [],
      "source": [
        "[item.get_ydata() for item in box['fliers'] ]  #fliers are outliers"
      ]
    },
    {
      "cell_type": "code",
      "execution_count": null,
      "metadata": {
        "id": "1_VL9vhawGwI"
      },
      "outputs": [],
      "source": [
        "#To get the whiskers\n",
        "[item.get_ydata()[1] for item in box['caps']]"
      ]
    },
    {
      "cell_type": "code",
      "execution_count": null,
      "metadata": {
        "id": "BHsPIfTuHiKE"
      },
      "outputs": [],
      "source": [
        "data_cleaned1.loc[(data_cleaned1.Ozone<1) | (data_cleaned1.Ozone>80)]\n"
      ]
    },
    {
      "cell_type": "code",
      "execution_count": null,
      "metadata": {
        "id": "iATEr8mOiILR"
      },
      "outputs": [],
      "source": [
        "#data.isnull().sum()"
      ]
    },
    {
      "cell_type": "code",
      "execution_count": null,
      "metadata": {
        "id": "2H48_ghCiILR"
      },
      "outputs": [],
      "source": [
        "#data_cleaned1.loc[data_cleaned1.Ozone>80]=80"
      ]
    },
    {
      "cell_type": "code",
      "execution_count": null,
      "metadata": {
        "id": "B1Fg8gRkCiyk"
      },
      "outputs": [],
      "source": [
        "data_cleaned1.loc[data_cleaned1.Ozone>80,\"Ozone\"]=80"
      ]
    },
    {
      "cell_type": "code",
      "execution_count": null,
      "metadata": {
        "id": "oT-0niYRiILR"
      },
      "outputs": [],
      "source": [
        "data_cleaned1.describe()"
      ]
    },
    {
      "cell_type": "code",
      "execution_count": null,
      "metadata": {
        "id": "7PkasVVpdlo3"
      },
      "outputs": [],
      "source": [
        "plt.boxplot(data_cleaned1[\"Ozone\"])"
      ]
    },
    {
      "cell_type": "code",
      "execution_count": null,
      "metadata": {
        "id": "38DFyB9FCMeJ"
      },
      "outputs": [],
      "source": [
        "plt.boxplot(data_cleaned1[\"Wind\"])"
      ]
    },
    {
      "cell_type": "code",
      "execution_count": null,
      "metadata": {
        "id": "gueR5rTN_p_Y"
      },
      "outputs": [],
      "source": [
        "box_wind=plt.boxplot(data_cleaned1['Wind'])\n",
        "Extremes=[item.get_ydata()[1] for item in box_wind['caps']]  ##16.6\n",
        "UE=Extremes[1]\n",
        "LE=Extremes[0]\n",
        "print(LE,UE)"
      ]
    },
    {
      "cell_type": "code",
      "execution_count": null,
      "metadata": {
        "id": "uylAKqy-yJAI"
      },
      "outputs": [],
      "source": [
        "data_cleaned1.loc[data_cleaned1.Wind>UE,\"Wind\"]=UE"
      ]
    },
    {
      "cell_type": "code",
      "source": [
        "plt.boxplot(data_cleaned1.Wind)"
      ],
      "metadata": {
        "id": "sErcSwYM4g7R"
      },
      "execution_count": null,
      "outputs": []
    },
    {
      "cell_type": "markdown",
      "source": [
        "# outlier treatment(Alternative)"
      ],
      "metadata": {
        "id": "hfA9xldGlSN2"
      }
    },
    {
      "cell_type": "code",
      "source": [
        "plt.boxplot(data_2.Ozone)"
      ],
      "metadata": {
        "id": "OgefQ9Z4tUIm"
      },
      "execution_count": null,
      "outputs": []
    },
    {
      "cell_type": "code",
      "source": [
        "#IQR\n",
        "Q1=data_2.Ozone.quantile(0.25)\n",
        "Q3=data_2.Ozone.quantile(0.75)\n",
        "IQR=Q3-Q1\n",
        "UE=Q3+1.5*IQR\n",
        "LE=Q1-1.5*IQR\n",
        "data_2.loc[data_2.Ozone>UE,\"Ozone\"]=UE\n",
        "data_2.loc[data_2.Ozone<LE,\"Ozone\"]=LE\n",
        "plt.boxplot(data_2.Ozone)"
      ],
      "metadata": {
        "id": "Ab5nL7jols3D"
      },
      "execution_count": null,
      "outputs": []
    },
    {
      "cell_type": "code",
      "source": [
        "Q3"
      ],
      "metadata": {
        "id": "glpBhS0utohx"
      },
      "execution_count": null,
      "outputs": []
    },
    {
      "cell_type": "markdown",
      "metadata": {
        "id": "tQ0weaM7HiKL"
      },
      "source": [
        "# Scatter plot and Correlation analysis"
      ]
    },
    {
      "cell_type": "code",
      "execution_count": null,
      "metadata": {
        "id": "RlGIm-PEiILS",
        "scrolled": true
      },
      "outputs": [],
      "source": [
        "plt.scatter(data_cleaned1.Ozone,data_cleaned1.Wind)"
      ]
    },
    {
      "cell_type": "code",
      "execution_count": null,
      "metadata": {
        "id": "dHfySOtkHiKN"
      },
      "outputs": [],
      "source": [
        "# Seaborn visualization library\n",
        "import seaborn as sns\n",
        "# Create the default pairplot\n",
        "#pd.plotting.scatter_matrix(data_cleaned3)\n",
        "sns.pairplot(data_cleaned1)"
      ]
    },
    {
      "cell_type": "code",
      "execution_count": null,
      "metadata": {
        "id": "dskrB3NkHiKN"
      },
      "outputs": [],
      "source": [
        "\n",
        "#Correlation\n",
        "df_num=data_cleaned1.select_dtypes('number')\n",
        "df_num.corr(method='pearson')"
      ]
    },
    {
      "cell_type": "code",
      "execution_count": null,
      "metadata": {
        "id": "YeUo626diygo"
      },
      "outputs": [],
      "source": [
        "sns.heatmap(df_num.corr(),annot=True,cmap='coolwarm')"
      ]
    },
    {
      "cell_type": "markdown",
      "metadata": {
        "id": "4WOTS287HiKN"
      },
      "source": [
        "# Transformations"
      ]
    },
    {
      "cell_type": "markdown",
      "metadata": {
        "id": "TS52EC8XHiKO"
      },
      "source": [
        "#### Dummy Variable"
      ]
    },
    {
      "cell_type": "code",
      "execution_count": null,
      "metadata": {
        "id": "KE-GFsvakqz6"
      },
      "outputs": [],
      "source": [
        "#data_cleaned3.drop(['Unnamed: 0'],axis=1,inplace=True)"
      ]
    },
    {
      "cell_type": "code",
      "execution_count": null,
      "metadata": {
        "id": "RupoWQgJHiKO"
      },
      "outputs": [],
      "source": [
        "#Creating dummy variable for Weather column\n",
        "data_cleaned1=pd.get_dummies(data_cleaned1,dtype=int,drop_first=True)\n",
        "data_cleaned1"
      ]
    },
    {
      "cell_type": "markdown",
      "metadata": {
        "id": "ehi7ugQYHiKP"
      },
      "source": [
        "#### Feature Scaling"
      ]
    },
    {
      "cell_type": "code",
      "execution_count": null,
      "metadata": {
        "id": "qmlbG_qYiILS"
      },
      "outputs": [],
      "source": [
        "def get_stand(x):\n",
        "\n",
        "    return ((x-x.mean())/x.std())"
      ]
    },
    {
      "cell_type": "code",
      "execution_count": null,
      "metadata": {
        "id": "EF86ppaLiILS"
      },
      "outputs": [],
      "source": []
    },
    {
      "cell_type": "code",
      "execution_count": null,
      "metadata": {
        "id": "RzqYSiRTiILS"
      },
      "outputs": [],
      "source": [
        "x=pd.Series([1500,1000,1200,1350,4400,500,300,200])\n",
        "\n",
        "get_stand(x)"
      ]
    },
    {
      "cell_type": "code",
      "execution_count": null,
      "metadata": {
        "id": "yxOiUiQZiILT"
      },
      "outputs": [],
      "source": [
        "stand_data=get_stand(data_cleaned1)\n",
        "stand_data.head()"
      ]
    },
    {
      "cell_type": "code",
      "execution_count": null,
      "metadata": {
        "id": "c914vrKsiILT"
      },
      "outputs": [],
      "source": [
        "def get_norm(x):\n",
        "    return (x-x.min())/(x.max()-x.min())"
      ]
    },
    {
      "cell_type": "code",
      "execution_count": null,
      "metadata": {
        "id": "KFEVo-TsiILT",
        "scrolled": true
      },
      "outputs": [],
      "source": [
        "x=pd.Series([15,10,12,13.5,40,50,30,29])\n",
        "\n",
        "get_norm(x)"
      ]
    },
    {
      "cell_type": "code",
      "execution_count": null,
      "metadata": {
        "id": "t0REF-11iILT"
      },
      "outputs": [],
      "source": [
        "norm_data=get_norm(data_cleaned1)\n",
        "norm_data.head()"
      ]
    },
    {
      "cell_type": "code",
      "execution_count": null,
      "metadata": {
        "id": "DKg5RtWjHiKP"
      },
      "outputs": [],
      "source": [
        "#Normalization of the data\n",
        "#from numpy import set_printoptions\n"
      ]
    },
    {
      "cell_type": "code",
      "source": [
        "from sklearn.preprocessing import StandardScaler\n",
        "array=data_cleaned1.values\n",
        "scaler=StandardScaler()     #creating an instance for standard scaler\n",
        "standard_data=scaler.fit_transform(array)\n",
        "standard_data"
      ],
      "metadata": {
        "id": "5NQjdltLzfcY"
      },
      "execution_count": null,
      "outputs": []
    },
    {
      "cell_type": "code",
      "source": [
        "from sklearn.preprocessing import MinMaxScaler\n",
        "array=data_cleaned1.values\n",
        "scaler=MinMaxScaler()     #creating an instance for standard scaler\n",
        "normalized_data=scaler.fit_transform(array)\n",
        "normalized_data"
      ],
      "metadata": {
        "id": "08-8X_JF021r"
      },
      "execution_count": null,
      "outputs": []
    },
    {
      "cell_type": "code",
      "source": [
        "from sklearn.preprocessing import StandardScaler\n",
        "sc=StandardScaler()\n",
        "arr=data_cleaned1.values\n",
        "sc.fit(arr)\n",
        "scaled=sc.transform(arr)\n",
        "#scaled=sc.fit_transform(arr)\n",
        "scaled"
      ],
      "metadata": {
        "id": "1Odoyi5qZfEF"
      },
      "execution_count": null,
      "outputs": []
    },
    {
      "cell_type": "code",
      "source": [
        "data_cleaned1.values"
      ],
      "metadata": {
        "id": "dMb_8r1M60BF"
      },
      "execution_count": null,
      "outputs": []
    },
    {
      "cell_type": "code",
      "source": [
        "from sklearn.preprocessing import StandardScaler\n",
        "\n",
        "array=data_cleaned1.values\n",
        "\n",
        "scaler=StandardScaler()\n",
        "rescaledX=scaler.fit_transform(array)\n",
        "\n",
        "pd.DataFrame(rescaledX).head()"
      ],
      "metadata": {
        "id": "fas41e2_BtdD"
      },
      "execution_count": null,
      "outputs": []
    },
    {
      "cell_type": "code",
      "execution_count": null,
      "metadata": {
        "id": "EGcezS3zHiKP"
      },
      "outputs": [],
      "source": [
        "data_cleaned1.values"
      ]
    },
    {
      "cell_type": "code",
      "execution_count": null,
      "metadata": {
        "id": "AN8Uu0vwHiKP"
      },
      "outputs": [],
      "source": [
        "from sklearn.preprocessing import MinMaxScaler\n",
        "array = data_cleaned1.values\n",
        "\n",
        "scaler = MinMaxScaler()\n",
        "rescaledX = scaler.fit_transform(array)\n",
        "\n",
        "#transformed data\n",
        "#set_printoptions(precision=2)\n",
        "print(pd.DataFrame(rescaledX))\n"
      ]
    },
    {
      "cell_type": "code",
      "execution_count": null,
      "metadata": {
        "id": "9yGmyu1bHiKQ"
      },
      "outputs": [],
      "source": [
        "# Standardize data (0 mean, 1 stdev)\n"
      ]
    },
    {
      "cell_type": "code",
      "execution_count": null,
      "metadata": {
        "id": "_xGH6bYOiILT"
      },
      "outputs": [],
      "source": [
        "import numpy as np\n",
        "\n",
        "data_cleaned1[\"log_ozone\"]=np.log(data_cleaned1.Ozone)\n",
        "data_cleaned1.head()"
      ]
    },
    {
      "cell_type": "code",
      "execution_count": null,
      "metadata": {
        "id": "8Y69Lz-aiILT"
      },
      "outputs": [],
      "source": [
        "data_cleaned1.Ozone.plot(kind=\"hist\")"
      ]
    },
    {
      "cell_type": "code",
      "execution_count": null,
      "metadata": {
        "id": "o54tETR4iILT"
      },
      "outputs": [],
      "source": [
        "data_cleaned1.log_ozone.plot(kind=\"hist\")"
      ]
    },
    {
      "cell_type": "markdown",
      "metadata": {
        "id": "Lv0gHwyRHiKQ"
      },
      "source": [
        "# Speed up the EDA process"
      ]
    },
    {
      "cell_type": "code",
      "execution_count": null,
      "metadata": {
        "id": "qKCGSmS-1Q8L"
      },
      "outputs": [],
      "source": [
        "!pip install pandas-profiling==3.1.0\n",
        "!pip install ydata_profiling\n"
      ]
    },
    {
      "cell_type": "code",
      "execution_count": null,
      "metadata": {
        "id": "exvHHxpHiILU"
      },
      "outputs": [],
      "source": [
        "\n",
        "import pandas as pd\n",
        "data=pd.read_csv(\"data_clean.csv\")"
      ]
    },
    {
      "cell_type": "code",
      "source": [
        "#!pip install --upgrade numba\n",
        "#!pip install --upgrade ydata_profiling==4.16"
      ],
      "metadata": {
        "id": "17hQ8jUyGhAp"
      },
      "execution_count": null,
      "outputs": []
    },
    {
      "cell_type": "code",
      "execution_count": null,
      "metadata": {
        "id": "qSkOT354iILU"
      },
      "outputs": [],
      "source": [
        "from pandas_profiling import ProfileReport\n",
        "import ydata_profiling as pp\n",
        "\n",
        "profile=ProfileReport(data, title=\"Exploratory Data Analysis\")\n",
        "#profile=pp.ProfileReport(data, title=\"Exploratory Data Analysis\")\n",
        "\n",
        "# Generate the report as an HTML file\n",
        "profile.to_file(\"report.html\")\n"
      ]
    },
    {
      "cell_type": "code",
      "execution_count": null,
      "metadata": {
        "id": "wbCHE7aCxHGs"
      },
      "outputs": [],
      "source": [
        "!pip install sweetviz"
      ]
    },
    {
      "cell_type": "code",
      "source": [
        "!pip install --upgrade numpy==1.24"
      ],
      "metadata": {
        "id": "NZnOxQr-JG4y"
      },
      "execution_count": null,
      "outputs": []
    },
    {
      "cell_type": "code",
      "source": [
        "import pandas as pd\n",
        "data=pd.read_csv(\"data_clean.csv\")"
      ],
      "metadata": {
        "id": "5DABRnziAlVt"
      },
      "execution_count": null,
      "outputs": []
    },
    {
      "cell_type": "code",
      "execution_count": null,
      "metadata": {
        "id": "vPUhz0-Qo5d4"
      },
      "outputs": [],
      "source": [
        "#import pandas_profiling as pp\n",
        "import sweetviz as sv\n",
        "\n",
        "sweet_report = sv.analyze(data)\n",
        "sweet_report.show_html('weather_report.html')"
      ]
    },
    {
      "cell_type": "code",
      "execution_count": null,
      "metadata": {
        "id": "vxJmCWfMNr6M"
      },
      "outputs": [],
      "source": [
        "dict1={'a':[1,2,3,3,3,5],'b':[2,3,4,3,3,6],'c':[5,6,7,3,3,6],'d':[5,6,7,3,3,6]}"
      ]
    },
    {
      "cell_type": "code",
      "execution_count": null,
      "metadata": {
        "id": "4anWu61IFMl-"
      },
      "outputs": [],
      "source": [
        "import pandas as pd\n",
        "df=pd.DataFrame(dict1)"
      ]
    },
    {
      "cell_type": "code",
      "execution_count": null,
      "metadata": {
        "id": "Qvnvf3jvFP6x"
      },
      "outputs": [],
      "source": [
        "df"
      ]
    },
    {
      "cell_type": "code",
      "execution_count": null,
      "metadata": {
        "id": "uYIqQ5uHFwtY"
      },
      "outputs": [],
      "source": [
        "df[df.duplicated()]"
      ]
    },
    {
      "cell_type": "code",
      "execution_count": null,
      "metadata": {
        "id": "ipMrKbbNGKHt"
      },
      "outputs": [],
      "source": [
        "df1=df.drop_duplicates()"
      ]
    },
    {
      "cell_type": "code",
      "execution_count": null,
      "metadata": {
        "id": "oUeyj_jdGWKB"
      },
      "outputs": [],
      "source": [
        "df1"
      ]
    },
    {
      "cell_type": "code",
      "source": [
        "df"
      ],
      "metadata": {
        "id": "Z_JUOmLndaTZ"
      },
      "execution_count": null,
      "outputs": []
    },
    {
      "cell_type": "code",
      "execution_count": null,
      "metadata": {
        "id": "9zGqVhZQGXOl"
      },
      "outputs": [],
      "source": [
        "df1.reset_index(drop=True)    #after reset, new index created, old index deleted\n"
      ]
    },
    {
      "cell_type": "code",
      "source": [
        "df1"
      ],
      "metadata": {
        "id": "dQ9H7gqz3lpw"
      },
      "execution_count": null,
      "outputs": []
    },
    {
      "cell_type": "code",
      "execution_count": null,
      "metadata": {
        "id": "zboEZwGPGa3o"
      },
      "outputs": [],
      "source": [
        "df.drop_duplicates(inplace=True)"
      ]
    },
    {
      "cell_type": "code",
      "source": [
        "df"
      ],
      "metadata": {
        "id": "Eo5O9UJPeOx9"
      },
      "execution_count": null,
      "outputs": []
    },
    {
      "cell_type": "code",
      "execution_count": null,
      "metadata": {
        "id": "G62BjS-pGjvJ"
      },
      "outputs": [],
      "source": [
        "df.reset_index(drop=True,inplace=True)"
      ]
    },
    {
      "cell_type": "code",
      "execution_count": null,
      "metadata": {
        "id": "fjVx1xtuGkpq"
      },
      "outputs": [],
      "source": [
        "df"
      ]
    },
    {
      "cell_type": "code",
      "source": [],
      "metadata": {
        "id": "NaQqXvhuZZqi"
      },
      "execution_count": null,
      "outputs": []
    }
  ],
  "metadata": {
    "colab": {
      "collapsed_sections": [
        "8968iyvu6iJY"
      ],
      "provenance": []
    },
    "kernelspec": {
      "display_name": "Python 3 (ipykernel)",
      "language": "python",
      "name": "python3"
    },
    "language_info": {
      "codemirror_mode": {
        "name": "ipython",
        "version": 3
      },
      "file_extension": ".py",
      "mimetype": "text/x-python",
      "name": "python",
      "nbconvert_exporter": "python",
      "pygments_lexer": "ipython3",
      "version": "3.11.5"
    }
  },
  "nbformat": 4,
  "nbformat_minor": 0
}